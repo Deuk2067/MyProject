{
 "cells": [
  {
   "cell_type": "code",
   "execution_count": 1,
   "id": "796b4e11",
   "metadata": {},
   "outputs": [],
   "source": [
    "import warnings\n",
    "warnings.filterwarnings(action='ignore')\n",
    "%config Completer.use_jedi = False\n",
    "\n",
    "from selenium import webdriver\n",
    "from selenium.webdriver.common.by import By\n",
    "from selenium.webdriver.support.ui import WebDriverWait\n",
    "from selenium.webdriver.support import expected_conditions as EC\n",
    "import pandas as pd\n",
    "import numpy as np\n",
    "import time"
   ]
  },
  {
   "cell_type": "code",
   "execution_count": 7,
   "id": "6757f480",
   "metadata": {},
   "outputs": [
    {
     "ename": "InvalidSelectorException",
     "evalue": "Message: invalid selector\nfrom javascript error: {\"status\":32,\"value\":\"An invalid or illegal selector was specified\"}\n  (Session info: chrome=126.0.6478.115); For documentation on this error, please visit: https://www.selenium.dev/documentation/webdriver/troubleshooting/errors#invalid-selector-exception\nStacktrace:\n\tGetHandleVerifier [0x00007FF7F8BBEEA2+31554]\n\t(No symbol) [0x00007FF7F8B37ED9]\n\t(No symbol) [0x00007FF7F89F872A]\n\t(No symbol) [0x00007FF7F89FE55E]\n\t(No symbol) [0x00007FF7F8A00EB1]\n\t(No symbol) [0x00007FF7F8A00F50]\n\t(No symbol) [0x00007FF7F8A47F6C]\n\t(No symbol) [0x00007FF7F8A4853C]\n\t(No symbol) [0x00007FF7F8A8F6D7]\n\t(No symbol) [0x00007FF7F8A6D06F]\n\t(No symbol) [0x00007FF7F8A8C977]\n\t(No symbol) [0x00007FF7F8A6CDD3]\n\t(No symbol) [0x00007FF7F8A3A33B]\n\t(No symbol) [0x00007FF7F8A3AED1]\n\tGetHandleVerifier [0x00007FF7F8EC8B1D+3217341]\n\tGetHandleVerifier [0x00007FF7F8F15AE3+3532675]\n\tGetHandleVerifier [0x00007FF7F8F0B0E0+3489152]\n\tGetHandleVerifier [0x00007FF7F8C6E776+750614]\n\t(No symbol) [0x00007FF7F8B4375F]\n\t(No symbol) [0x00007FF7F8B3EB14]\n\t(No symbol) [0x00007FF7F8B3ECA2]\n\t(No symbol) [0x00007FF7F8B2E16F]\n\tBaseThreadInitThunk [0x00007FFF084F7344+20]\n\tRtlUserThreadStart [0x00007FFF0A3DCC91+33]\n",
     "output_type": "error",
     "traceback": [
      "\u001b[1;31m---------------------------------------------------------------------------\u001b[0m",
      "\u001b[1;31mInvalidSelectorException\u001b[0m                  Traceback (most recent call last)",
      "\u001b[1;32m~\\AppData\\Local\\Temp\\ipykernel_11904\\100119544.py\u001b[0m in \u001b[0;36m<module>\u001b[1;34m\u001b[0m\n\u001b[0;32m      5\u001b[0m \u001b[0mwait\u001b[0m \u001b[1;33m=\u001b[0m \u001b[0mWebDriverWait\u001b[0m\u001b[1;33m(\u001b[0m\u001b[0mdriver\u001b[0m\u001b[1;33m,\u001b[0m \u001b[1;36m10\u001b[0m\u001b[1;33m)\u001b[0m\u001b[1;33m\u001b[0m\u001b[1;33m\u001b[0m\u001b[0m\n\u001b[0;32m      6\u001b[0m \u001b[1;33m\u001b[0m\u001b[0m\n\u001b[1;32m----> 7\u001b[1;33m \u001b[0mNovels\u001b[0m \u001b[1;33m=\u001b[0m \u001b[0mdriver\u001b[0m\u001b[1;33m.\u001b[0m\u001b[0mfind_elements\u001b[0m\u001b[1;33m(\u001b[0m\u001b[0mBy\u001b[0m\u001b[1;33m.\u001b[0m\u001b[0mCSS_SELECTOR\u001b[0m\u001b[1;33m,\u001b[0m \u001b[1;34m'NPI=a:content'\u001b[0m\u001b[1;33m)\u001b[0m\u001b[1;33m\u001b[0m\u001b[1;33m\u001b[0m\u001b[0m\n\u001b[0m",
      "\u001b[1;32mC:\\anaconda3\\envs\\python37\\lib\\site-packages\\selenium\\webdriver\\remote\\webdriver.py\u001b[0m in \u001b[0;36mfind_elements\u001b[1;34m(self, by, value)\u001b[0m\n\u001b[0;32m    767\u001b[0m         \u001b[1;31m# Return empty list if driver returns null\u001b[0m\u001b[1;33m\u001b[0m\u001b[1;33m\u001b[0m\u001b[1;33m\u001b[0m\u001b[0m\n\u001b[0;32m    768\u001b[0m         \u001b[1;31m# See https://github.com/SeleniumHQ/selenium/issues/4555\u001b[0m\u001b[1;33m\u001b[0m\u001b[1;33m\u001b[0m\u001b[1;33m\u001b[0m\u001b[0m\n\u001b[1;32m--> 769\u001b[1;33m         \u001b[1;32mreturn\u001b[0m \u001b[0mself\u001b[0m\u001b[1;33m.\u001b[0m\u001b[0mexecute\u001b[0m\u001b[1;33m(\u001b[0m\u001b[0mCommand\u001b[0m\u001b[1;33m.\u001b[0m\u001b[0mFIND_ELEMENTS\u001b[0m\u001b[1;33m,\u001b[0m \u001b[1;33m{\u001b[0m\u001b[1;34m\"using\"\u001b[0m\u001b[1;33m:\u001b[0m \u001b[0mby\u001b[0m\u001b[1;33m,\u001b[0m \u001b[1;34m\"value\"\u001b[0m\u001b[1;33m:\u001b[0m \u001b[0mvalue\u001b[0m\u001b[1;33m}\u001b[0m\u001b[1;33m)\u001b[0m\u001b[1;33m[\u001b[0m\u001b[1;34m\"value\"\u001b[0m\u001b[1;33m]\u001b[0m \u001b[1;32mor\u001b[0m \u001b[1;33m[\u001b[0m\u001b[1;33m]\u001b[0m\u001b[1;33m\u001b[0m\u001b[1;33m\u001b[0m\u001b[0m\n\u001b[0m\u001b[0;32m    770\u001b[0m \u001b[1;33m\u001b[0m\u001b[0m\n\u001b[0;32m    771\u001b[0m     \u001b[1;33m@\u001b[0m\u001b[0mproperty\u001b[0m\u001b[1;33m\u001b[0m\u001b[1;33m\u001b[0m\u001b[0m\n",
      "\u001b[1;32mC:\\anaconda3\\envs\\python37\\lib\\site-packages\\selenium\\webdriver\\remote\\webdriver.py\u001b[0m in \u001b[0;36mexecute\u001b[1;34m(self, driver_command, params)\u001b[0m\n\u001b[0;32m    343\u001b[0m         \u001b[0mresponse\u001b[0m \u001b[1;33m=\u001b[0m \u001b[0mself\u001b[0m\u001b[1;33m.\u001b[0m\u001b[0mcommand_executor\u001b[0m\u001b[1;33m.\u001b[0m\u001b[0mexecute\u001b[0m\u001b[1;33m(\u001b[0m\u001b[0mdriver_command\u001b[0m\u001b[1;33m,\u001b[0m \u001b[0mparams\u001b[0m\u001b[1;33m)\u001b[0m\u001b[1;33m\u001b[0m\u001b[1;33m\u001b[0m\u001b[0m\n\u001b[0;32m    344\u001b[0m         \u001b[1;32mif\u001b[0m \u001b[0mresponse\u001b[0m\u001b[1;33m:\u001b[0m\u001b[1;33m\u001b[0m\u001b[1;33m\u001b[0m\u001b[0m\n\u001b[1;32m--> 345\u001b[1;33m             \u001b[0mself\u001b[0m\u001b[1;33m.\u001b[0m\u001b[0merror_handler\u001b[0m\u001b[1;33m.\u001b[0m\u001b[0mcheck_response\u001b[0m\u001b[1;33m(\u001b[0m\u001b[0mresponse\u001b[0m\u001b[1;33m)\u001b[0m\u001b[1;33m\u001b[0m\u001b[1;33m\u001b[0m\u001b[0m\n\u001b[0m\u001b[0;32m    346\u001b[0m             \u001b[0mresponse\u001b[0m\u001b[1;33m[\u001b[0m\u001b[1;34m\"value\"\u001b[0m\u001b[1;33m]\u001b[0m \u001b[1;33m=\u001b[0m \u001b[0mself\u001b[0m\u001b[1;33m.\u001b[0m\u001b[0m_unwrap_value\u001b[0m\u001b[1;33m(\u001b[0m\u001b[0mresponse\u001b[0m\u001b[1;33m.\u001b[0m\u001b[0mget\u001b[0m\u001b[1;33m(\u001b[0m\u001b[1;34m\"value\"\u001b[0m\u001b[1;33m,\u001b[0m \u001b[1;32mNone\u001b[0m\u001b[1;33m)\u001b[0m\u001b[1;33m)\u001b[0m\u001b[1;33m\u001b[0m\u001b[1;33m\u001b[0m\u001b[0m\n\u001b[0;32m    347\u001b[0m             \u001b[1;32mreturn\u001b[0m \u001b[0mresponse\u001b[0m\u001b[1;33m\u001b[0m\u001b[1;33m\u001b[0m\u001b[0m\n",
      "\u001b[1;32mC:\\anaconda3\\envs\\python37\\lib\\site-packages\\selenium\\webdriver\\remote\\errorhandler.py\u001b[0m in \u001b[0;36mcheck_response\u001b[1;34m(self, response)\u001b[0m\n\u001b[0;32m    227\u001b[0m                 \u001b[0malert_text\u001b[0m \u001b[1;33m=\u001b[0m \u001b[0mvalue\u001b[0m\u001b[1;33m[\u001b[0m\u001b[1;34m\"alert\"\u001b[0m\u001b[1;33m]\u001b[0m\u001b[1;33m.\u001b[0m\u001b[0mget\u001b[0m\u001b[1;33m(\u001b[0m\u001b[1;34m\"text\"\u001b[0m\u001b[1;33m)\u001b[0m\u001b[1;33m\u001b[0m\u001b[1;33m\u001b[0m\u001b[0m\n\u001b[0;32m    228\u001b[0m             \u001b[1;32mraise\u001b[0m \u001b[0mexception_class\u001b[0m\u001b[1;33m(\u001b[0m\u001b[0mmessage\u001b[0m\u001b[1;33m,\u001b[0m \u001b[0mscreen\u001b[0m\u001b[1;33m,\u001b[0m \u001b[0mstacktrace\u001b[0m\u001b[1;33m,\u001b[0m \u001b[0malert_text\u001b[0m\u001b[1;33m)\u001b[0m  \u001b[1;31m# type: ignore[call-arg]  # mypy is not smart enough here\u001b[0m\u001b[1;33m\u001b[0m\u001b[1;33m\u001b[0m\u001b[0m\n\u001b[1;32m--> 229\u001b[1;33m         \u001b[1;32mraise\u001b[0m \u001b[0mexception_class\u001b[0m\u001b[1;33m(\u001b[0m\u001b[0mmessage\u001b[0m\u001b[1;33m,\u001b[0m \u001b[0mscreen\u001b[0m\u001b[1;33m,\u001b[0m \u001b[0mstacktrace\u001b[0m\u001b[1;33m)\u001b[0m\u001b[1;33m\u001b[0m\u001b[1;33m\u001b[0m\u001b[0m\n\u001b[0m",
      "\u001b[1;31mInvalidSelectorException\u001b[0m: Message: invalid selector\nfrom javascript error: {\"status\":32,\"value\":\"An invalid or illegal selector was specified\"}\n  (Session info: chrome=126.0.6478.115); For documentation on this error, please visit: https://www.selenium.dev/documentation/webdriver/troubleshooting/errors#invalid-selector-exception\nStacktrace:\n\tGetHandleVerifier [0x00007FF7F8BBEEA2+31554]\n\t(No symbol) [0x00007FF7F8B37ED9]\n\t(No symbol) [0x00007FF7F89F872A]\n\t(No symbol) [0x00007FF7F89FE55E]\n\t(No symbol) [0x00007FF7F8A00EB1]\n\t(No symbol) [0x00007FF7F8A00F50]\n\t(No symbol) [0x00007FF7F8A47F6C]\n\t(No symbol) [0x00007FF7F8A4853C]\n\t(No symbol) [0x00007FF7F8A8F6D7]\n\t(No symbol) [0x00007FF7F8A6D06F]\n\t(No symbol) [0x00007FF7F8A8C977]\n\t(No symbol) [0x00007FF7F8A6CDD3]\n\t(No symbol) [0x00007FF7F8A3A33B]\n\t(No symbol) [0x00007FF7F8A3AED1]\n\tGetHandleVerifier [0x00007FF7F8EC8B1D+3217341]\n\tGetHandleVerifier [0x00007FF7F8F15AE3+3532675]\n\tGetHandleVerifier [0x00007FF7F8F0B0E0+3489152]\n\tGetHandleVerifier [0x00007FF7F8C6E776+750614]\n\t(No symbol) [0x00007FF7F8B4375F]\n\t(No symbol) [0x00007FF7F8B3EB14]\n\t(No symbol) [0x00007FF7F8B3ECA2]\n\t(No symbol) [0x00007FF7F8B2E16F]\n\tBaseThreadInitThunk [0x00007FFF084F7344+20]\n\tRtlUserThreadStart [0x00007FFF0A3DCC91+33]\n"
     ]
    }
   ],
   "source": [
    "start = time.time()\n",
    "targetSite = 'https://series.naver.com/novel/categoryProductList.series?categoryTypeCode=all'\n",
    "driver = webdriver.Chrome()\n",
    "driver.get(targetSite)\n",
    "wait = WebDriverWait(driver, 10)\n",
    "\n",
    "#//*[@id=\"content\"]/p/a[1]\n",
    "#//*[@id=\"content\"]/p/a[1] # 2\n",
    "#//*[@id=\"content\"]/p/a[2] # 3\n",
    "#//*[@id=\"content\"]/p/a[6] # 8\n",
    "#//*[@id=\"content\"]/p/a[7] # 9\n",
    "#//*[@id=\"content\"]/p/a[6] # 9\n",
    "#//*[@id=\"content\"]/p/a[2] # 3\n",
    "#//*[@id=\"content\"]/p/a[5] # 6\n",
    "#//*[@id=\"content\"]/p/a[6] # 7\n",
    "#//*[@id=\"content\"]/p/a[6] # 8\n",
    "#//*[@id=\"content\"]/p/a[6] # 9"
   ]
  },
  {
   "cell_type": "code",
   "execution_count": null,
   "id": "3998441c",
   "metadata": {},
   "outputs": [],
   "source": []
  }
 ],
 "metadata": {
  "kernelspec": {
   "display_name": "python37",
   "language": "python",
   "name": "python37"
  },
  "language_info": {
   "codemirror_mode": {
    "name": "ipython",
    "version": 3
   },
   "file_extension": ".py",
   "mimetype": "text/x-python",
   "name": "python",
   "nbconvert_exporter": "python",
   "pygments_lexer": "ipython3",
   "version": "3.7.1"
  }
 },
 "nbformat": 4,
 "nbformat_minor": 5
}
