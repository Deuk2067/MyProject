{
 "cells": [
  {
   "cell_type": "code",
   "execution_count": 1,
   "id": "c79532e6",
   "metadata": {},
   "outputs": [],
   "source": [
    "import warnings\n",
    "warnings.filterwarnings(action='ignore')\n",
    "%config Completer.use_jedi = False\n",
    "\n",
    "from selenium import webdriver\n",
    "from selenium.webdriver.chrome.options import Options\n",
    "from selenium.webdriver.common.by import By\n",
    "\n",
    "import numpy as np\n",
    "import pandas as pd\n",
    "import time"
   ]
  },
  {
   "cell_type": "code",
   "execution_count": 2,
   "id": "cb61439a",
   "metadata": {},
   "outputs": [
    {
     "name": "stdout",
     "output_type": "stream",
     "text": [
      "200 200 200 200 200 200 200 200 200 200\n",
      "200 200 200 200 200 200 200 200 200 200\n",
      "200 200 200 200 200 200 200 200 200 200\n",
      "129 129 129 129 129 129 129 129 129 129\n",
      "782.0946562290192\n"
     ]
    }
   ],
   "source": [
    "start=time.time()\n",
    "targetSites = ['https://www.munpia.com/page/best/section/plsa.eachtoday', 'https://www.munpia.com/page/best/section/plsa.weekly',\n",
    "               'https://www.munpia.com/page/best/section/plsa.monthly', 'https://www.munpia.com/page/best/section/plsa.newbie']\n",
    "\n",
    "for targetSite in targetSites:\n",
    "    driver = webdriver.Chrome() \n",
    "    driver.get(targetSite)\n",
    "    time.sleep(1)\n",
    "    \n",
    "    for i in range(10): # 가장 마지막까지 스크롤 200위까지만 나옴\n",
    "        driver.execute_script('window.scrollTo(0,document.body.scrollHeight);')\n",
    "        time.sleep(1)\n",
    "    \n",
    "    # 원래는 순위대로 하나씩 클릭하고 크롤링 후 back()하려 했으나 다시 아래로 스크롤 해야 해서 \n",
    "    # 스크롤 한 다음 하이퍼링크 주소를 따와서 리스트에 저장한 후 하나씩 열고 크로링 하기로 함.\n",
    "    M_Links = []\n",
    "    M_Link_List = driver.find_elements(By.CLASS_NAME, 'best-item')\n",
    "    for M_Link in M_Link_List:\n",
    "        M_Links.append(M_Link.get_attribute('href'))\n",
    "    M_Links.remove(M_Links[3]) \n",
    "    # 하이퍼 링크 저장 함=========================================================================\n",
    "    \n",
    "    # 리스트 초기화\n",
    "    Title = [] # 타이틀\n",
    "    Genre = [] # 장르\n",
    "    Author = [] # 작가\n",
    "    Start = [] # 연재 시작일\n",
    "    Last = [] # 마지막 연재일\n",
    "    Count = [] # 연재수\n",
    "    View = [] # 조회수\n",
    "    Good = [] # 추천수\n",
    "    Typing = [] # 글자수\n",
    "    Favorite = [] # 선호작 수\n",
    "    \n",
    "    for i in range(len(M_Links)):\n",
    "        driver.get(M_Links[i]) # 0부터 하나씩 저장된 하이퍼링크로 이동\n",
    "\n",
    "        Title.append(driver.find_element(By.XPATH, '//*[@id=\"board\"]/div[1]/div[3]/h2/div/a').text) # 제목 추가\n",
    "        Genre.append(driver.find_element(By.XPATH, '//*[@id=\"board\"]/div[1]/div[3]/p[1]/strong').text) # 장르 추가\n",
    "        \n",
    "        try:\n",
    "            Author.append(driver.find_element(By.XPATH, '//*[@id=\"board\"]/div[1]/div[3]/dl[1]/dd/a/strong').text) # 작가 추가\n",
    "        except:\n",
    "            Author.append(driver.find_element(By.XPATH, '//*[@id=\"board\"]/div[1]/div[3]/dl[1]/dd').text) # 작가 추가\n",
    "            \n",
    "        try:\n",
    "            Favorite.append(driver.find_element(By.XPATH, '//*[@id=\"board\"]/div[1]/div[3]/div[2]/div[2]/a[1]/span/b').text) # 선작수 추가\n",
    "        except:\n",
    "            Favorite.append(driver.find_element(By.XPATH, '//*[@id=\"board\"]/div[1]/div[3]/div/div[2]/a[1]/span/b').text) # 선작수 추가    \n",
    "            \n",
    "        Start.append(driver.find_element(By.XPATH, '//*[@id=\"board\"]/div[1]/div[3]/dl[2]/dd[1]').text) # 연재 시작일 추가\n",
    "        Last.append(driver.find_element(By.XPATH, '//*[@id=\"board\"]/div[1]/div[3]/dl[2]/dd[2]').text) # 마지막 연재일 추가\n",
    "\n",
    "        Count.append(driver.find_element(By.XPATH, '//*[@id=\"board\"]/div[1]/div[3]/dl[3]/dd[1]').text) # 연재수 추가\n",
    "        View.append(driver.find_element(By.XPATH, '//*[@id=\"board\"]/div[1]/div[3]/dl[3]/dd[2]').text) # 조회수 추가\n",
    "        Good.append(driver.find_element(By.XPATH, '//*[@id=\"board\"]/div[1]/div[3]/dl[3]/dd[3]').text) # 추천수 추가\n",
    "        Typing.append(driver.find_element(By.XPATH, '//*[@id=\"board\"]/div[1]/div[3]/dl[3]/dd[4]').text) # 글자수 추가\n",
    "        #print(f'{i}. 제목: {Title[i]}, 장르: {Genre[i]}, 작가: {Author[i]}, 선작수: {Favorite[i]}, 시작일: {Start[i]}, 최근화: {Last[i]}, 회수: {Count[i]}, 조회수: {View[i]}, 추천수: {Good[i]}, 글자수: {Typing[i]}')\n",
    "        \n",
    "    print(len(Title), len(Genre), len(Author), len(Favorite), len(Start), len(Last), len(Count), len(View), len(Good), len(Typing))\n",
    "    \n",
    "    df= pd.DataFrame({\"제목\":Title, \"장르\":Genre, \"작가\":Author, \"연재 시작일\":Start, \"마지막 연재일\":Last, \"회수\":Count, \"조회수\":View, \"추천수\":Good, \"글자수\":Typing, \"선작수\":Favorite})\n",
    "    df.index = df.index+1 \n",
    "    \n",
    "    # 데이터프레임으로 저장 및 인덱스 1부터 시작\n",
    "    # 데이터프레임을 data 폴더에 저장함 근데 4개(today, week, month, new) 따로 저장 하도록 함\n",
    "    if targetSite == 'https://www.munpia.com/page/best/section/plsa.eachtoday':\n",
    "        df.to_csv('./data/M_Today_Best200.txt')\n",
    "    elif targetSite == 'https://www.munpia.com/page/best/section/plsa.weekly':\n",
    "        df.to_csv('./data/M_Week_Best200.txt')\n",
    "    elif targetSite == 'https://www.munpia.com/page/best/section/plsa.monthly':\n",
    "        df.to_csv('./data/M_Month_Best200.txt')\n",
    "    else:\n",
    "        df.to_csv('./data/M_New_Best200.txt') \n",
    "end=time.time()     \n",
    "print(end-start)"
   ]
  },
  {
   "cell_type": "code",
   "execution_count": null,
   "id": "4d2a25e4",
   "metadata": {},
   "outputs": [],
   "source": []
  },
  {
   "cell_type": "code",
   "execution_count": null,
   "id": "622ab273",
   "metadata": {},
   "outputs": [],
   "source": []
  },
  {
   "cell_type": "code",
   "execution_count": null,
   "id": "91cb533c",
   "metadata": {},
   "outputs": [],
   "source": []
  },
  {
   "cell_type": "code",
   "execution_count": null,
   "id": "b7c8c3a4",
   "metadata": {},
   "outputs": [],
   "source": []
  },
  {
   "cell_type": "code",
   "execution_count": null,
   "id": "6ebadc40",
   "metadata": {},
   "outputs": [],
   "source": []
  },
  {
   "cell_type": "code",
   "execution_count": null,
   "id": "a48f3394",
   "metadata": {},
   "outputs": [],
   "source": []
  },
  {
   "cell_type": "code",
   "execution_count": null,
   "id": "5bd1dea8",
   "metadata": {},
   "outputs": [],
   "source": []
  },
  {
   "cell_type": "code",
   "execution_count": null,
   "id": "e5945c0b",
   "metadata": {},
   "outputs": [],
   "source": []
  }
 ],
 "metadata": {
  "kernelspec": {
   "display_name": "python37",
   "language": "python",
   "name": "python37"
  },
  "language_info": {
   "codemirror_mode": {
    "name": "ipython",
    "version": 3
   },
   "file_extension": ".py",
   "mimetype": "text/x-python",
   "name": "python",
   "nbconvert_exporter": "python",
   "pygments_lexer": "ipython3",
   "version": "3.7.1"
  }
 },
 "nbformat": 4,
 "nbformat_minor": 5
}
