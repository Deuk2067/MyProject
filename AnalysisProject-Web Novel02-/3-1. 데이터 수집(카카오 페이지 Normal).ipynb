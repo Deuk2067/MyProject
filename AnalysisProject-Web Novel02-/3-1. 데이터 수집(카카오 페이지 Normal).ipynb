{
 "cells": [
  {
   "cell_type": "code",
   "execution_count": 1,
   "id": "f12d4413",
   "metadata": {},
   "outputs": [],
   "source": [
    "import warnings\n",
    "warnings.filterwarnings(action='ignore')\n",
    "%config Completer.use_jedi = False\n",
    "\n",
    "import time\n",
    "import pandas as pd\n",
    "from selenium import webdriver\n",
    "from selenium.webdriver.support.ui import WebDriverWait\n",
    "from selenium.webdriver.support import expected_conditions as EC\n",
    "from selenium.webdriver.common.by import By\n",
    "from selenium.common.exceptions import NoSuchElementException, TimeoutException"
   ]
  },
  {
   "cell_type": "code",
   "execution_count": 2,
   "id": "d64db783",
   "metadata": {},
   "outputs": [],
   "source": [
    "driver = webdriver.Chrome()\n",
    "driver.get('https://page.kakao.com/menu/10011/screen/84?subcategory_uid=0') # 페이지 열기\n",
    "wait = WebDriverWait(driver, 10)"
   ]
  },
  {
   "cell_type": "code",
   "execution_count": null,
   "id": "057adf31",
   "metadata": {},
   "outputs": [],
   "source": [
    "links = []\n",
    "start = time.time()\n",
    "for i in range(120): # 120번 스크롤 \n",
    "    driver.execute_script('window.scrollTo(0,document.body.scrollHeight);')\n",
    "    time.sleep(1)\n",
    "    \n",
    "for i in range(1, 10000):\n",
    "    time.sleep(0.3)\n",
    "    try:\n",
    "        element = f'#__next > div > div.flex.w-full.grow.flex-col.px-122pxr > div > div.flex.grow.flex-col > div.mb-4pxr.flex-col > div > div.flex.grow.flex-col > div > div > div > div:nth-child({i}) > div > a'\n",
    "        link = driver.find_element(By.CSS_SELECTOR, element).get_attribute('href')\n",
    "        links.append(link)\n",
    "    except:\n",
    "        break\n",
    "end = time.time()        \n",
    "print(len(links)) # 예상 240\n",
    "print(end-start)\n",
    "print(links)        "
   ]
  },
  {
   "cell_type": "code",
   "execution_count": null,
   "id": "f44a3dcb",
   "metadata": {},
   "outputs": [],
   "source": [
    "\n"
   ]
  },
  {
   "cell_type": "code",
   "execution_count": null,
   "id": "5feb7962",
   "metadata": {},
   "outputs": [],
   "source": []
  },
  {
   "cell_type": "code",
   "execution_count": null,
   "id": "37c74bc9",
   "metadata": {},
   "outputs": [],
   "source": []
  }
 ],
 "metadata": {
  "kernelspec": {
   "display_name": "python37",
   "language": "python",
   "name": "python37"
  },
  "language_info": {
   "codemirror_mode": {
    "name": "ipython",
    "version": 3
   },
   "file_extension": ".py",
   "mimetype": "text/x-python",
   "name": "python",
   "nbconvert_exporter": "python",
   "pygments_lexer": "ipython3",
   "version": "3.7.1"
  }
 },
 "nbformat": 4,
 "nbformat_minor": 5
}
