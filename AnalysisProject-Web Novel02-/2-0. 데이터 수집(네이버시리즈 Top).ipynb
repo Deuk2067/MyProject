{
 "cells": [
  {
   "cell_type": "code",
   "execution_count": null,
   "id": "96af284c",
   "metadata": {},
   "outputs": [],
   "source": [
    "import warnings\n",
    "warnings.filterwarnings(action='ignore')\n",
    "%config Completer.use_jedi = False\n",
    "\n",
    "from selenium import webdriver\n",
    "from selenium.webdriver.common.by import By\n",
    "from selenium.webdriver.support.ui import WebDriverWait\n",
    "from selenium.webdriver.support import expected_conditions as EC\n",
    "import pandas as pd\n",
    "import numpy as np\n",
    "import time\n"
   ]
  },
  {
   "cell_type": "code",
   "execution_count": null,
   "id": "27ee7dc4",
   "metadata": {
    "scrolled": false
   },
   "outputs": [],
   "source": [
    "start = time.time()\n",
    "targetSite = 'https://series.naver.com/novel/top100List.series'\n",
    "driver = webdriver.Chrome()\n",
    "driver.get(targetSite)\n",
    "wait = WebDriverWait(driver, 10)\n",
    "\n",
    "# 각 탭 (실시간, 일간, 주간, 월간 Top 100) 크롤링\n",
    "for i in range(1, 5, 1):  # 실시간, 일간, 주간, 월간\n",
    "    driver.find_element(By.XPATH, f'//*[@id=\"container\"]/div[1]/ul/li[{i}]/a').click()\n",
    "    wait.until(EC.presence_of_element_located((By.XPATH, '//*[@id=\"content\"]/div/ul/li[1]/div[2]/h3/a')))\n",
    "    \n",
    "    Titles = []  # 제목 저장할 리스트\n",
    "    Genre = []  # 장르 저장할 리스트\n",
    "    Author = []  # 작가 저장할 리스트\n",
    "    Start = []  # 연재 시작일\n",
    "    Last = []  # 마지막 연재일\n",
    "    Count = []  # 연재수\n",
    "    Good = []  # 추천수\n",
    "    Point = []  # 평점\n",
    "    Comment = []  # 댓글 수\n",
    "    \n",
    "    for p in range(1, 6, 1):\n",
    "        if p != 1:  # 첫 페이지가 아닌 경우 페이지 이동\n",
    "            driver.find_element(By.XPATH, f'//*[@id=\"content\"]/div/div[2]/a[{p-1}]').click()\n",
    "            wait.until(EC.presence_of_element_located((By.XPATH, '//*[@id=\"content\"]/div/ul/li[1]/div[2]/h3/a')))\n",
    "        \n",
    "        for j in range(1, 21, 1):\n",
    "            driver.find_element(By.XPATH, f'//*[@id=\"content\"]/div/ul/li[{j}]/div[2]/h3/a').click()\n",
    "            \n",
    "            if \"login\" in driver.current_url or \"adult\" in driver.current_url: # 19금, 로그인 필요한 경우\n",
    "                # 이후 전처리 할 떄 쉽게 하도록 19금 통일\n",
    "                Titles.append(\"19금\")\n",
    "                Genre.append(\"19금\")\n",
    "                Author.append(\"19금\")\n",
    "                Point.append(\"19금\")\n",
    "                Start.append(\"19금\")\n",
    "                Last.append(\"19금\")\n",
    "                Count.append(\"19금\")\n",
    "                Good.append(\"19금\")\n",
    "                Comment.append(\"19금\")\n",
    "                driver.back()\n",
    "                continue\n",
    "            \n",
    "            # 연재 시작일과 마지막 연재일 수집\n",
    "            # 정렬 기준이 랜덤이라 Start, Last에 들어가는게 반대로 들어가는 경우가 있음 (최신순, 1화부터)\n",
    "            a = driver.find_element(By.XPATH, '//*[@id=\"content\"]/table/thead/tr/th[1]/div')  # 최신순\n",
    "            b = driver.find_element(By.XPATH, '//*[@id=\"content\"]/table/thead/tr/th[2]/div')  # 1화부터\n",
    "            \n",
    "            if a.get_attribute('class') == 'on _changeTicketSortOrder(DESC)':  # 최신순 정렬\n",
    "                wait.until(EC.presence_of_element_located((By.XPATH, '//*[@id=\"volumeList\"]/tr[1]/td[1]/em')))\n",
    "                Last.append(driver.find_element(By.XPATH, '//*[@id=\"volumeList\"]/tr[1]/td[1]/em').text)\n",
    "                b.click()\n",
    "                wait.until(EC.presence_of_element_located((By.XPATH, '//*[@id=\"volumeList\"]/tr[1]/td[1]/em')))\n",
    "                Start.append(driver.find_element(By.XPATH, '//*[@id=\"volumeList\"]/tr[1]/td[1]/em').text)\n",
    "                driver.back()\n",
    "            \n",
    "            elif b.get_attribute('class') == 'on _changeTicketSortOrder(ASC)':  # 1화부터 정렬\n",
    "                wait.until(EC.presence_of_element_located((By.XPATH, '//*[@id=\"volumeList\"]/tr[1]/td[1]/em')))\n",
    "                Start.append(driver.find_element(By.XPATH, '//*[@id=\"volumeList\"]/tr[1]/td[1]/em').text)\n",
    "                a.click()\n",
    "                wait.until(EC.presence_of_element_located((By.XPATH, '//*[@id=\"volumeList\"]/tr[1]/td[1]/em')))\n",
    "                Last.append(driver.find_element(By.XPATH, '//*[@id=\"volumeList\"]/tr[1]/td[1]/em').text)\n",
    "                driver.back()\n",
    "            \n",
    "            try:\n",
    "                Titles.append(driver.find_element(By.XPATH, '//*[@id=\"content\"]/div[1]/h2').text)\n",
    "                Good.append(driver.find_element(By.XPATH, '//*[@id=\"content\"]/div[1]/div[2]/ul/li[2]/div/a/em').text)\n",
    "            except:\n",
    "                Titles.append(driver.find_element(By.XPATH, '//*[@id=\"content\"]/div[2]/h2').text)\n",
    "                Good.append(driver.find_element(By.XPATH, '//*[@id=\"content\"]/div[2]/div[2]/ul/li[2]/div/a/em').text)\n",
    "            \n",
    "            try:\n",
    "                Point.append(driver.find_element(By.XPATH, '//*[@id=\"content\"]/div[1]/div[1]/em').text)\n",
    "            except:\n",
    "                Point.append(driver.find_element(By.XPATH, '//*[@id=\"content\"]/div[2]/div[1]/em').text)\n",
    "            \n",
    "            Genre.append(driver.find_element(By.XPATH, '//*[@id=\"content\"]/ul[1]/li/ul/li[2]/span/a').text)\n",
    "            Author.append(driver.find_element(By.XPATH, '//*[@id=\"content\"]/ul[1]/li/ul/li[3]/a').text)\n",
    "            Count.append(driver.find_element(By.XPATH, '//*[@id=\"content\"]/h5/strong').text)\n",
    "            \n",
    "            wait.until(EC.presence_of_element_located((By.XPATH, '//*[@id=\"cbox_module\"]/div/div[1]/span')))\n",
    "            Comment.append(driver.find_element(By.XPATH, '//*[@id=\"cbox_module\"]/div/div[1]/span').text)\n",
    "            \n",
    "            driver.back()\n",
    "    \n",
    "    df = pd.DataFrame({\"제목\": Titles, \"장르\": Genre, \"작가\": Author, \"연재 시작일\": Start, \"마지막 연재일\": Last, \"회수\": Count, \"댓글수\": Comment, \"추천수\": Good, \"평점\": Point})\n",
    "    df.index = df.index + 1\n",
    "    \n",
    "    if i == 1:\n",
    "        df.to_csv('./data/NSeries_Now.txt')\n",
    "    elif i == 2:\n",
    "        df.to_csv('./data/NSeries_Today.txt')\n",
    "    elif i == 3:\n",
    "        df.to_csv('./data/NSeries_Week.txt')\n",
    "    else:\n",
    "        df.to_csv('./data/NSeries_Month.txt')\n",
    "driver.quit()\n",
    "end = time.time()"
   ]
  },
  {
   "cell_type": "code",
   "execution_count": null,
   "id": "d8c133f0",
   "metadata": {},
   "outputs": [],
   "source": [
    "dfN=pd.read_csv('./data/NSeries_Now100.txt', index_col=0)\n",
    "dfT=pd.read_csv('./data/NSeries_Today100.txt', index_col=0)\n",
    "dfW=pd.read_csv('./data/NSeries_Week100.txt', index_col=0)\n",
    "dfM=pd.read_csv('./data/NSeries_Month100.txt', index_col=0)\n",
    "print(end-start)"
   ]
  },
  {
   "cell_type": "code",
   "execution_count": null,
   "id": "b9bfc4c5",
   "metadata": {},
   "outputs": [],
   "source": [
    "dfN"
   ]
  },
  {
   "cell_type": "code",
   "execution_count": null,
   "id": "002d893b",
   "metadata": {},
   "outputs": [],
   "source": [
    "dfT"
   ]
  },
  {
   "cell_type": "code",
   "execution_count": null,
   "id": "b00ac6f0",
   "metadata": {},
   "outputs": [],
   "source": [
    "dfW"
   ]
  },
  {
   "cell_type": "code",
   "execution_count": null,
   "id": "c9fc6a35",
   "metadata": {},
   "outputs": [],
   "source": [
    "dfM"
   ]
  },
  {
   "cell_type": "code",
   "execution_count": null,
   "id": "ccb9680c",
   "metadata": {},
   "outputs": [],
   "source": []
  },
  {
   "cell_type": "code",
   "execution_count": null,
   "id": "7518f032",
   "metadata": {},
   "outputs": [],
   "source": []
  },
  {
   "cell_type": "code",
   "execution_count": null,
   "id": "feddeca7",
   "metadata": {},
   "outputs": [],
   "source": []
  },
  {
   "cell_type": "code",
   "execution_count": null,
   "id": "34612bd2",
   "metadata": {},
   "outputs": [],
   "source": []
  },
  {
   "cell_type": "code",
   "execution_count": null,
   "id": "e51b579c",
   "metadata": {},
   "outputs": [],
   "source": []
  },
  {
   "cell_type": "code",
   "execution_count": null,
   "id": "08152560",
   "metadata": {},
   "outputs": [],
   "source": []
  }
 ],
 "metadata": {
  "kernelspec": {
   "display_name": "Python 3 (ipykernel)",
   "language": "python",
   "name": "python3"
  },
  "language_info": {
   "codemirror_mode": {
    "name": "ipython",
    "version": 3
   },
   "file_extension": ".py",
   "mimetype": "text/x-python",
   "name": "python",
   "nbconvert_exporter": "python",
   "pygments_lexer": "ipython3",
   "version": "3.7.12"
  }
 },
 "nbformat": 4,
 "nbformat_minor": 5
}
