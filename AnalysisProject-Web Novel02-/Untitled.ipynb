{
 "cells": [
  {
   "cell_type": "code",
   "execution_count": 1,
   "id": "ebc65dda",
   "metadata": {},
   "outputs": [],
   "source": [
    "import warnings\n",
    "warnings.filterwarnings(action='ignore')\n",
    "%config Completer.use_jedi = False\n",
    "import numpy as np\n",
    "import pandas as pd\n",
    "# 원-핫 인코딩을 하기 위해 import 함\n",
    "from sklearn.preprocessing import OneHotEncoder\n",
    "from sklearn.preprocessing import LabelEncoder # 레이블 인코더\n",
    "# 표준화 스케일링을 하기 위해 import 한다.\n",
    "from sklearn.preprocessing import StandardScaler\n",
    "from sklearn.model_selection import train_test_split # 학습 데이터와 테스트 데이터를 나누기 위해 import 한다.\n",
    "from sklearn.preprocessing import StandardScaler     # 표준화 스케일링을 하기 위해 import 한다.\n",
    "from sklearn.linear_model import LinearRegression    # 사이킷런이 제공하는 선형 회귀 모델을 사용하기 위해 import 한다.\n",
    "from sklearn.neighbors import KNeighborsClassifier   # 사이킷런이 제공하는 최근접 이웃 모델을 사용하기 위해 import 한다.\n",
    "\n",
    "from sklearn.metrics import mean_absolute_error      # 평균 절대값 오차(MAE)를 계산하기 위해 import 한다.\n",
    "from sklearn.metrics import mean_squared_error       # 평균 제곱 오차(MSE)를 계산하기 위해 import 한다."
   ]
  },
  {
   "cell_type": "code",
   "execution_count": 2,
   "id": "0d370a90",
   "metadata": {},
   "outputs": [],
   "source": [
    "df = pd.read_csv('./data/All_Novel.txt', index_col=0)\n",
    "df_genre = df['장르'] # yData\n",
    "df_text = df[['제목','작가','연재 시작일' ,'마지막 연재일']]\n"
   ]
  },
  {
   "cell_type": "code",
   "execution_count": 3,
   "id": "e8e866d1",
   "metadata": {},
   "outputs": [
    {
     "name": "stdout",
     "output_type": "stream",
     "text": [
      "(9734,)\n"
     ]
    }
   ],
   "source": [
    "# 레이블 인코더 생성\n",
    "genre_encoder = LabelEncoder()\n",
    "Genre_encoder = genre_encoder.fit_transform(df_genre)\n",
    "print(Genre_encoder.shape)"
   ]
  },
  {
   "cell_type": "code",
   "execution_count": 4,
   "id": "130d0132",
   "metadata": {
    "scrolled": true
   },
   "outputs": [
    {
     "name": "stdout",
     "output_type": "stream",
     "text": [
      "  (0, 972)\t1.0\n",
      "  (0, 12329)\t1.0\n",
      "  (0, 18034)\t1.0\n",
      "  (0, 20835)\t1.0\n",
      "  (1, 795)\t1.0\n",
      "  (1, 13895)\t1.0\n",
      "  (1, 18044)\t1.0\n",
      "  (1, 20835)\t1.0\n",
      "  (2, 290)\t1.0\n",
      "  (2, 12972)\t1.0\n",
      "  (2, 17850)\t1.0\n",
      "  (2, 20737)\t1.0\n",
      "  (3, 723)\t1.0\n",
      "  (3, 12686)\t1.0\n",
      "  (3, 18063)\t1.0\n",
      "  (3, 20835)\t1.0\n",
      "  (4, 1058)\t1.0\n",
      "  (4, 13687)\t1.0\n",
      "  (4, 17957)\t1.0\n",
      "  (4, 20835)\t1.0\n",
      "  (5, 687)\t1.0\n",
      "  (5, 15243)\t1.0\n",
      "  (5, 18058)\t1.0\n",
      "  (5, 20835)\t1.0\n",
      "  (6, 864)\t1.0\n",
      "  :\t:\n",
      "  (9727, 19596)\t1.0\n",
      "  (9728, 2730)\t1.0\n",
      "  (9728, 14531)\t1.0\n",
      "  (9728, 15490)\t1.0\n",
      "  (9728, 18461)\t1.0\n",
      "  (9729, 7080)\t1.0\n",
      "  (9729, 11655)\t1.0\n",
      "  (9729, 16492)\t1.0\n",
      "  (9729, 20886)\t1.0\n",
      "  (9730, 4397)\t1.0\n",
      "  (9730, 14992)\t1.0\n",
      "  (9730, 15641)\t1.0\n",
      "  (9730, 18790)\t1.0\n",
      "  (9731, 6488)\t1.0\n",
      "  (9731, 13538)\t1.0\n",
      "  (9731, 18301)\t1.0\n",
      "  (9731, 20948)\t1.0\n",
      "  (9732, 1450)\t1.0\n",
      "  (9732, 13200)\t1.0\n",
      "  (9732, 15586)\t1.0\n",
      "  (9732, 18520)\t1.0\n",
      "  (9733, 3662)\t1.0\n",
      "  (9733, 12305)\t1.0\n",
      "  (9733, 17051)\t1.0\n",
      "  (9733, 18607)\t1.0\n"
     ]
    }
   ],
   "source": [
    "ohe = OneHotEncoder()\n",
    "label = df_text\n",
    "new_label = ohe.fit_transform(label)\n",
    "new_label.toarray()\n",
    "print(new_label)\n",
    "xData = new_label\n",
    "yData = Genre_encoder"
   ]
  },
  {
   "cell_type": "code",
   "execution_count": 5,
   "id": "cb580410",
   "metadata": {
    "scrolled": true
   },
   "outputs": [
    {
     "name": "stdout",
     "output_type": "stream",
     "text": [
      "(7300, 21009) (2434, 21009) (7300,) (2434,)\n",
      "1.3752798541061741\n",
      "0.9680998453499018\n"
     ]
    }
   ],
   "source": [
    "# 학습 데이터와 테스트 데이터 분할\n",
    "x_train, x_test, y_train, y_test = train_test_split(xData, yData, random_state=7)\n",
    "print(x_train.shape, x_test.shape, y_train.shape, y_test.shape)\n",
    "# 표준화 스케일링 적용\n",
    "std_scale = StandardScaler(with_mean=False)\n",
    "x_train = std_scale.fit_transform(x_train) # 학습 데이터 스케일링\n",
    "x_test = std_scale.transform(x_test) # 테스트 데이터 스케일링\n",
    "# 모델 생성 후 학습\n",
    "clf = LinearRegression() # 선형 회귀 모델을 만든다.\n",
    "clf.fit(x_train, y_train) # 스케일링된 학습 데이터와 학습 데이터에 따른 레이블로 학습시킨다.\n",
    "# 모델 예측\n",
    "predict = clf.predict(x_test) # 스케일링된 테스트 데이터로 학습된 모델을 예측한다.\n",
    "# 모델 평가\n",
    "# 테스트 데이터의 레이블과 테스트 데이터로 예측한 값의 평균 제곱 오차를 계산한다.\n",
    "print(mean_squared_error(y_test, predict))\n",
    "# 테스트 데이터의 레이블과 테스트 데이터로 예측한 값의 평균 절대값 오차를 계산한다.\n",
    "print(mean_absolute_error(y_test, predict))"
   ]
  },
  {
   "cell_type": "code",
   "execution_count": null,
   "id": "42df802f",
   "metadata": {},
   "outputs": [],
   "source": []
  },
  {
   "cell_type": "code",
   "execution_count": null,
   "id": "65f599a2",
   "metadata": {},
   "outputs": [],
   "source": []
  },
  {
   "cell_type": "code",
   "execution_count": null,
   "id": "e1d76b4e",
   "metadata": {},
   "outputs": [],
   "source": []
  },
  {
   "cell_type": "code",
   "execution_count": null,
   "id": "e6158fa6",
   "metadata": {},
   "outputs": [],
   "source": []
  },
  {
   "cell_type": "code",
   "execution_count": null,
   "id": "1788b086",
   "metadata": {},
   "outputs": [],
   "source": []
  },
  {
   "cell_type": "code",
   "execution_count": null,
   "id": "e8a04699",
   "metadata": {},
   "outputs": [],
   "source": []
  }
 ],
 "metadata": {
  "kernelspec": {
   "display_name": "python37",
   "language": "python",
   "name": "python37"
  },
  "language_info": {
   "codemirror_mode": {
    "name": "ipython",
    "version": 3
   },
   "file_extension": ".py",
   "mimetype": "text/x-python",
   "name": "python",
   "nbconvert_exporter": "python",
   "pygments_lexer": "ipython3",
   "version": "3.7.1"
  }
 },
 "nbformat": 4,
 "nbformat_minor": 5
}
