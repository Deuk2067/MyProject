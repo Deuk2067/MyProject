{
 "cells": [
  {
   "cell_type": "code",
   "execution_count": 1,
   "metadata": {},
   "outputs": [],
   "source": [
    "import warnings\n",
    "warnings.filterwarnings(action='ignore')\n",
    "%config Completer.use_jedi = False\n",
    "import pandas as pd\n",
    "from elasticsearch import Elasticsearch, helpers\n",
    "\n"
   ]
  },
  {
   "cell_type": "code",
   "execution_count": 2,
   "metadata": {},
   "outputs": [
    {
     "name": "stdout",
     "output_type": "stream",
     "text": [
      "<class 'pandas.core.frame.DataFrame'>\n",
      "Int64Index: 9734 entries, 0 to 9733\n",
      "Data columns (total 7 columns):\n",
      " #   Column   Non-Null Count  Dtype         \n",
      "---  ------   --------------  -----         \n",
      " 0   제목       9734 non-null   object        \n",
      " 1   장르       9734 non-null   object        \n",
      " 2   작가       9734 non-null   object        \n",
      " 3   연재수      9734 non-null   int64         \n",
      " 4   연재 시작일   9734 non-null   datetime64[ns]\n",
      " 5   마지막 연재일  9734 non-null   datetime64[ns]\n",
      " 6   Site     9734 non-null   object        \n",
      "dtypes: datetime64[ns](2), int64(1), object(4)\n",
      "memory usage: 608.4+ KB\n"
     ]
    }
   ],
   "source": [
    "es = Elasticsearch('http://localhost:9200')\n",
    "df = pd.read_csv('./data/All_Novel.txt', index_col=0, parse_dates=['마지막 연재일', '연재 시작일'])\n",
    "df.info()"
   ]
  },
  {
   "cell_type": "code",
   "execution_count": 3,
   "metadata": {},
   "outputs": [
    {
     "name": "stdout",
     "output_type": "stream",
     "text": [
      "{'제목': ' 차라리 빌런으로 살겠다', '장르': '현대판타지', '작가': '서인하', '연재수': 127, '연재 시작일': Timestamp('2024-03-02 00:00:00'), '마지막 연재일': Timestamp('2024-06-25 00:00:00'), 'Site': 'Munpia'}\n",
      " 차라리 빌런으로 살겠다\n",
      "9734\n",
      "dict_keys(['제목', '장르', '작가', '연재수', '연재 시작일', '마지막 연재일', 'Site'])\n"
     ]
    }
   ],
   "source": [
    "# orient='records' 를 사용해서 df의 행하나를 컬럼을 키값으로 가지고\n",
    "#  행 하나를 value로 같는 리스트 형태의 딕셔너리를 만듬\n",
    "docs = df.to_dict(orient='records') \n",
    "print(docs[0])\n",
    "print(docs[0]['제목'])\n",
    "print(len(docs))\n",
    "print(docs[0].keys())"
   ]
  },
  {
   "cell_type": "code",
   "execution_count": 4,
   "metadata": {},
   "outputs": [
    {
     "data": {
      "text/plain": [
       "(9734, [])"
      ]
     },
     "execution_count": 4,
     "metadata": {},
     "output_type": "execute_result"
    }
   ],
   "source": [
    "doc_list = []\n",
    "i = 0\n",
    "for dic in docs:\n",
    "    i+=1\n",
    "\n",
    "    doc = {\n",
    "        '_index': 'web_novels',\n",
    "        '_source': {\n",
    "            'Title': dic['제목'],\n",
    "            'Genre': dic['장르'],\n",
    "            'Author': dic['작가'],\n",
    "            'Count': dic['연재수'],\n",
    "            'Site': dic['Site'],\n",
    "            'period': {\n",
    "                'start': dic['연재 시작일'],\n",
    "                'last': dic['마지막 연재일']\n",
    "            }\n",
    "        }\n",
    "    }\n",
    "    doc_list.append(doc)\n",
    "\n",
    "helpers.bulk(es, doc_list)    \n"
   ]
  },
  {
   "cell_type": "code",
   "execution_count": 5,
   "metadata": {},
   "outputs": [
    {
     "name": "stdout",
     "output_type": "stream",
     "text": [
      "<class 'pandas.core.frame.DataFrame'>\n",
      "Int64Index: 2260 entries, 0 to 2259\n",
      "Data columns (total 10 columns):\n",
      " #   Column   Non-Null Count  Dtype         \n",
      "---  ------   --------------  -----         \n",
      " 0   제목       2260 non-null   object        \n",
      " 1   장르       2260 non-null   object        \n",
      " 2   작가       2260 non-null   object        \n",
      " 3   조회수      2260 non-null   int64         \n",
      " 4   댓글       2260 non-null   int64         \n",
      " 5   연재수      2260 non-null   int64         \n",
      " 6   연재 시작일   2260 non-null   datetime64[ns]\n",
      " 7   마지막 연재일  2260 non-null   datetime64[ns]\n",
      " 8   평점       2260 non-null   float64       \n",
      " 9   Site     2260 non-null   object        \n",
      "dtypes: datetime64[ns](2), float64(1), int64(3), object(4)\n",
      "memory usage: 194.2+ KB\n"
     ]
    },
    {
     "ename": "",
     "evalue": "",
     "output_type": "error",
     "traceback": [
      "\u001b[1;31m현재 셀 또는 이전 셀에서 코드를 실행하는 동안 Kernel이 충돌했습니다. \n",
      "\u001b[1;31m셀의 코드를 검토하여 가능한 오류 원인을 식별하세요. \n",
      "\u001b[1;31m자세한 내용을 보려면 <a href='https://aka.ms/vscodeJupyterKernelCrash'>여기</a>를 클릭하세요. \n",
      "\u001b[1;31m자세한 내용은 Jupyter <a href='command:jupyter.viewOutput'>로그</a>를 참조하세요."
     ]
    }
   ],
   "source": [
    "es = Elasticsearch('http://localhost:9200')\n",
    "kdf = pd.read_csv('./data/K_all.txt', index_col=0, parse_dates=['마지막 연재일', '연재 시작일'])\n",
    "kdf.info()\n",
    "kdocs = kdf.to_dict(orient='records') "
   ]
  },
  {
   "cell_type": "code",
   "execution_count": 6,
   "metadata": {},
   "outputs": [],
   "source": [
    "i = 0\n",
    "for kdoc in kdocs:\n",
    "    i += 1\n",
    "    es.index(index='kakao_novels', id=i, body=kdoc)"
   ]
  },
  {
   "cell_type": "code",
   "execution_count": null,
   "metadata": {},
   "outputs": [],
   "source": [
    "es = Elasticsearch('http://localhost:9200')\n",
    "mdf = pd.read_csv('./data/M_all.txt', index_col=0, parse_dates=['마지막 연재일', '연재 시작일'])\n",
    "mdf.info()\n",
    "mdocs = mdf.to_dict(orient='records') "
   ]
  },
  {
   "cell_type": "code",
   "execution_count": null,
   "metadata": {},
   "outputs": [],
   "source": [
    "i = 0\n",
    "for mdoc in mdocs:\n",
    "    i+=1\n",
    "    es.index(index='munpia_novels', id=i, body=mdoc)"
   ]
  },
  {
   "cell_type": "code",
   "execution_count": null,
   "metadata": {},
   "outputs": [],
   "source": [
    "es = Elasticsearch('http://localhost:9200')\n",
    "ndf = pd.read_csv('./data/N_all.txt', index_col=0, parse_dates=['마지막 연재일', '연재 시작일'])\n",
    "ndf.info()\n",
    "ndocs = ndf.to_dict(orient='records') \n"
   ]
  },
  {
   "cell_type": "code",
   "execution_count": null,
   "metadata": {},
   "outputs": [],
   "source": [
    "ndoc_list = []\n",
    "i = 0\n",
    "for ndic in ndocs:\n",
    "    i+=1\n",
    "\n",
    "    ndoc = {\n",
    "        '_index': 'naverseries_novels',\n",
    "        '_source': {\n",
    "            'Title': ndic['제목'],\n",
    "            'Genre': ndic['장르'],\n",
    "            'Author': ndic['작가'],\n",
    "            'Count': ndic['연재수'],\n",
    "            'Comments': ndic['댓글수'],\n",
    "            'Favorite': ndic['추천수'],\n",
    "            'Ratings': ndic['평점'],\n",
    "            'Site': ndic['Site'],\n",
    "            'period': {\n",
    "                'start': ndic['연재 시작일'],\n",
    "                'last': ndic['마지막 연재일']\n",
    "            }\n",
    "        }\n",
    "    }\n",
    "    ndoc_list.append(ndoc)\n",
    "\n",
    "helpers.bulk(es, ndoc_list)    \n"
   ]
  },
  {
   "cell_type": "code",
   "execution_count": null,
   "metadata": {},
   "outputs": [],
   "source": [
    "df = pd.read_csv('./data/All_Novel.txt', index_col=0)\n",
    "df"
   ]
  },
  {
   "cell_type": "code",
   "execution_count": null,
   "metadata": {},
   "outputs": [],
   "source": [
    "df.Site.unique()"
   ]
  },
  {
   "cell_type": "code",
   "execution_count": null,
   "metadata": {},
   "outputs": [],
   "source": [
    "df[(df.장르 == '로맨스판타지') & (df.Site == 'NaverSeries')]"
   ]
  },
  {
   "cell_type": "code",
   "execution_count": null,
   "metadata": {},
   "outputs": [],
   "source": []
  },
  {
   "cell_type": "code",
   "execution_count": null,
   "metadata": {},
   "outputs": [],
   "source": []
  },
  {
   "cell_type": "code",
   "execution_count": null,
   "metadata": {},
   "outputs": [],
   "source": []
  },
  {
   "cell_type": "code",
   "execution_count": null,
   "metadata": {},
   "outputs": [],
   "source": []
  }
 ],
 "metadata": {
  "kernelspec": {
   "display_name": "py37",
   "language": "python",
   "name": "python3"
  },
  "language_info": {
   "codemirror_mode": {
    "name": "ipython",
    "version": 3
   },
   "file_extension": ".py",
   "mimetype": "text/x-python",
   "name": "python",
   "nbconvert_exporter": "python",
   "pygments_lexer": "ipython3",
   "version": "3.7.12"
  }
 },
 "nbformat": 4,
 "nbformat_minor": 2
}
