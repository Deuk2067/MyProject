{
 "cells": [
  {
   "cell_type": "code",
   "execution_count": null,
   "id": "947671df",
   "metadata": {},
   "outputs": [],
   "source": [
    "import warnings\n",
    "warnings.filterwarnings(action='ignore')\n",
    "%config Completer.use_jedi = False\n",
    "from bs4 import BeautifulSoup\n",
    "from selenium.common.exceptions import NoSuchElementException\n",
    "from selenium import webdriver\n",
    "from selenium.webdriver.chrome.options import Options\n",
    "from selenium.webdriver.common.by import By\n",
    "from selenium.webdriver.common.keys import Keys\n",
    "import requests\n",
    "import numpy as np\n",
    "import pandas as pd\n",
    "import time\n",
    "\n",
    "import matplotlib.pyplot as plt\n",
    "import matplotlib as mpl\n",
    "mpl.rcParams['axes.unicode_minus'] = False\n",
    "plt.rcParams['font.family'] = 'NanumGothicCoding'\n",
    "plt.rcParams['font.size'] = 12"
   ]
  },
  {
   "cell_type": "code",
   "execution_count": null,
   "id": "dd1756de",
   "metadata": {},
   "outputs": [],
   "source": [
    "# 실시간 랭킹 300위 페이지 띄우기\n",
    "targetSite = 'https://page.kakao.com/menu/10011/screen/94'\n",
    "driver = webdriver.Chrome() \n",
    "driver.get(targetSite)\n",
    "time.sleep(1)\n",
    "request = requests.get(targetSite)\n",
    "html = request.text\n",
    "soup = BeautifulSoup(html, 'html.parser') # 크롤링 하려는 페이지 띄우기\n",
    "\n",
    "for i in range(6): # 가장 마지막 까지 스크롤\n",
    "    driver.execute_script('window.scrollTo(0,document.body.scrollHeight);')\n",
    "    time.sleep(1)\n",
    "\n",
    "# top3의장르, 제목, 작가 저장할 리스트\n",
    "Kakao_Genre = [] # 장르 저장할 리스트\n",
    "Kakao_Titles = [] # 제목 저장할 리스트\n",
    "Kakao_Author = [] # 작가 저장할 리스트\n",
    "Kakao_Point = [] # 평점 리스트\n",
    "Kakao_Ranking = [i+1 for i in range(300)]\n",
    "Links=[]\n"
   ]
  },
  {
   "cell_type": "code",
   "execution_count": null,
   "id": "0ab6fcf7",
   "metadata": {},
   "outputs": [],
   "source": [
    "# 카카오 페이지는 XPATH로 경로 클릭이 안되서 링크 따온 리스트를 만들고 driver.get()으로 하나씩 열고 필요한 거 크롤링함\n",
    "for i in range(1, 301, 1):\n",
    "    time.sleep(0.1)\n",
    "    element = f'#__next > div > div.flex.w-full.grow.flex-col.px-122pxr > div > div.flex.grow.flex-col > div:nth-child(3) > div > div.flex.w-full.grow.flex-col > div > div > div > div:nth-child({i}) > div > a'\n",
    "    div=driver.find_element(By.CSS_SELECTOR, element).get_attribute('href')\n",
    "    Links.append(div)"
   ]
  },
  {
   "cell_type": "code",
   "execution_count": null,
   "id": "9dfba5f5",
   "metadata": {},
   "outputs": [],
   "source": [
    "# 링크 하나씩 열고 장르,제목,작가,평점 저장 및 19금 작품의 로그인 필요시 '19금'으로 통일함\n",
    "for i in range(len(Links)):\n",
    "    driver.get(Links[i])\n",
    "    time.sleep(0.3)\n",
    "    \n",
    "    try:\n",
    "        Kakao_Genre.append(driver.find_element(By.XPATH, '//*[@id=\"__next\"]/div/div[2]/div[1]/div[1]/div[1]/div/div[2]/a/div/div[1]/div[1]/div').text)\n",
    "        Kakao_Titles.append(driver.find_element(By.XPATH, '//*[@id=\"__next\"]/div/div[2]/div[1]/div[1]/div[1]/div/div[2]/a/div/span[1]').text)\n",
    "        Kakao_Author.append(driver.find_element(By.XPATH, '//*[@id=\"__next\"]/div/div[2]/div[1]/div[1]/div[1]/div/div[2]/a/div/span[2]').text)\n",
    "        Kakao_Point.append(driver.find_element(By.XPATH, '//*[@id=\"__next\"]/div/div[2]/div[1]/div[1]/div[1]/div/div[2]/a/div/div[1]/div[3]/span').text)\n",
    "        time.sleep(0.5)\n",
    "    except NoSuchElementException: # 여기선 네이버랑 다르게 에러가 안떠서 간단하게 함\n",
    "        driver.back()\n",
    "        Kakao_Genre.append('19금')\n",
    "        Kakao_Titles.append('19금')\n",
    "        Kakao_Author.append('19금')\n",
    "        Kakao_Point.append('19금')\n",
    "        time.sleep(0.5)\n",
    "        continue    "
   ]
  },
  {
   "cell_type": "code",
   "execution_count": null,
   "id": "160f9aa0",
   "metadata": {},
   "outputs": [],
   "source": [
    "# 데이터프레임으로 만듬\n",
    "Kakao_Now = pd.DataFrame({'제목': Kakao_Titles, '장르': Kakao_Genre, '작가':Kakao_Author, '평점': Kakao_Point}, index=Kakao_Ranking)\n",
    "Kakao_Now"
   ]
  },
  {
   "cell_type": "code",
   "execution_count": null,
   "id": "ad9f18ab",
   "metadata": {},
   "outputs": [],
   "source": [
    "# 데이터 전처리 필요 확인 단계\n",
    "Kakao_Now.장르.unique()                       "
   ]
  },
  {
   "cell_type": "code",
   "execution_count": null,
   "id": "1deaa9e5",
   "metadata": {},
   "outputs": [],
   "source": [
    "# 데이터 전처리 과정\n",
    "# '웹소설로판', '웹소설판타지', '웹소설무협', '19금', '웹소설현판', '웹소설로맨스', '웹소설드라마' 등 앞에 웹소설 때고 통일\n",
    "Kakao_Now.loc[Kakao_Now.장르 == '웹소설로판', '장르'] = '로맨스 판타지'\n",
    "Kakao_Now.loc[Kakao_Now.장르 == '웹소설판타지', '장르'] = '판타지'\n",
    "Kakao_Now.loc[Kakao_Now.장르 == '웹소설무협', '장르'] = '무협'\n",
    "Kakao_Now.loc[Kakao_Now.장르 == '웹소설현판', '장르'] = '현대 판타지'\n",
    "Kakao_Now.loc[Kakao_Now.장르 == '웹소설로맨스', '장르'] = '로맨스'\n",
    "Kakao_Now.loc[Kakao_Now.장르 == '웹소설드라마', '장르'] = '드라마'\n",
    "Kakao_Now"
   ]
  },
  {
   "cell_type": "code",
   "execution_count": null,
   "id": "a9fd51e1",
   "metadata": {},
   "outputs": [],
   "source": [
    "# 데이터 전처리 과정으로 평점을 float로 바꾸기 위해 평점에 '19금'을 0.0으로 바꾸고 다시 저장\n",
    "Kakao_Now.loc[Kakao_Now.평점 == '19금', '평점'] = 0.0\n",
    "Kakao_Now.평점 = Kakao_Now.평점.astype(float)"
   ]
  },
  {
   "cell_type": "code",
   "execution_count": null,
   "id": "10ee7fc5",
   "metadata": {},
   "outputs": [],
   "source": [
    "all_genres = pd.Series(Kakao_Now['장르'].unique())\n",
    "print(all_genres) # 로맨스 판타지, 19금 , 무협, 판타지, 로맨스, 현대 판타지, 드라마\n",
    "\n",
    "for genre in all_genres:\n",
    "    Kakao_Now[genre] = (Kakao_Now['장르'] == genre)\n",
    "\n",
    "# 19금은 로그인이 필요해서 평점 데이터가 제대로 수집되지 않음(0.0으로 통일 시킴) \n",
    "# 19금은 제외 함\n",
    "Kakao_Now=Kakao_Now.drop(Kakao_Now[Kakao_Now.제목 == '19금'].index) # 19금 인덱스 삭제\n",
    "Kakao_Now=Kakao_Now.drop(columns='19금', axis=1)\n",
    "Kakao_Now.index = [i+1 for i in range(len(Kakao_Now))] # 19금 제외하고 인덱스 번호 다시 \n",
    "Kakao_Now # 19금을 제외한 270개의 데이터"
   ]
  },
  {
   "cell_type": "code",
   "execution_count": null,
   "id": "892fc565",
   "metadata": {},
   "outputs": [],
   "source": [
    "# 마지막 확인\n",
    "Kakao_Now.info() # null값 없음 확인"
   ]
  },
  {
   "cell_type": "code",
   "execution_count": null,
   "id": "00af9cba",
   "metadata": {},
   "outputs": [],
   "source": [
    "Kakao_Now.to_csv('./data/Kakao_Now300.txt')"
   ]
  },
  {
   "cell_type": "code",
   "execution_count": null,
   "id": "70fe5a91",
   "metadata": {},
   "outputs": [],
   "source": []
  }
 ],
 "metadata": {
  "kernelspec": {
   "display_name": "python37",
   "language": "python",
   "name": "python37"
  },
  "language_info": {
   "codemirror_mode": {
    "name": "ipython",
    "version": 3
   },
   "file_extension": ".py",
   "mimetype": "text/x-python",
   "name": "python",
   "nbconvert_exporter": "python",
   "pygments_lexer": "ipython3",
   "version": "3.7.1"
  }
 },
 "nbformat": 4,
 "nbformat_minor": 5
}
