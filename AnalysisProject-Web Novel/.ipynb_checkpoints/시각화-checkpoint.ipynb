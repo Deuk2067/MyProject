{
 "cells": [
  {
   "cell_type": "code",
   "execution_count": null,
   "id": "421eb3c5",
   "metadata": {},
   "outputs": [],
   "source": [
    "import numpy as np\n",
    "import pandas as pd\n",
    "import time\n",
    "\n",
    "import matplotlib.pyplot as plt\n",
    "import matplotlib as mpl\n",
    "mpl.rcParams['axes.unicode_minus'] = False\n",
    "plt.rcParams['font.family'] = 'NanumGothicCoding'\n",
    "plt.rcParams['font.size'] = 12"
   ]
  },
  {
   "cell_type": "markdown",
   "id": "4d22f4a6",
   "metadata": {},
   "source": [
    "문피아 시각화"
   ]
  },
  {
   "cell_type": "code",
   "execution_count": null,
   "id": "d9cfe857",
   "metadata": {},
   "outputs": [],
   "source": [
    "# 문피아 유료소설 200개 장르별 점유율 시각화\n",
    "Mdf=pd.read_csv('./data/Munpia_pay200.txt', index_col=0)\n",
    "Mdf"
   ]
  },
  {
   "cell_type": "code",
   "execution_count": null,
   "id": "cbd3d6a1",
   "metadata": {},
   "outputs": [],
   "source": [
    "M_hfan=Mdf.현대판타지.sum()\n",
    "M_fan=Mdf.판타지.sum()\n",
    "M_mu=Mdf.무협.sum()\n",
    "M_his=Mdf.대체역사.sum()\n",
    "M_fu=Mdf.퓨전.sum()\n",
    "M_spo=Mdf.스포츠.sum()\n",
    "M_dra=Mdf.드라마.sum()\n",
    "M_roman=Mdf.로맨스.sum()\n",
    "M_game=Mdf.게임.sum()\n",
    "M_war=Mdf.전쟁·밀리터리.sum()\n",
    "M_normal=Mdf.일반소설.sum()\n",
    "\n",
    "# 장르 전체 숫자 구함\n",
    "Mgenre_list = [M_hfan, M_fan, M_mu, M_his, M_fu, M_spo, M_dra, M_roman, M_game, M_war, M_normal]\n",
    "Mgenres = ['현대판타지', '판타지', '무협', '대체역사', '퓨전', '스포츠', '드라마', '로맨스', '게임', '전쟁·밀리터리', '일반소설']\n",
    "total = sum(Mgenre_list)\n",
    "\n",
    "# 전체 장르 합계 만들고 점유율 구함\n",
    "Mgenre_shares = [genre / total for genre in Mgenre_list]\n",
    "\n",
    "# 장르별 점유율 구함\n",
    "#print(Mgenre_shares)\n",
    "#print(sum(Mgenre_shares))"
   ]
  },
  {
   "cell_type": "code",
   "execution_count": null,
   "id": "f6a32284",
   "metadata": {},
   "outputs": [],
   "source": [
    "plt.figure(figsize=(8, 12))\n",
    "\n",
    "wedgeprops={'width': 0.8, 'edgecolor': 'w', 'linewidth': 3}\n",
    "plt.title('문피아 유료 200위 장르별 점유율 차트')\n",
    "\n",
    "plt.pie(Mgenre_shares, labels=Mgenres, autopct='%.1f%%', wedgeprops=wedgeprops)\n",
    "\n",
    "plt.show()"
   ]
  },
  {
   "cell_type": "code",
   "execution_count": null,
   "id": "788339c5",
   "metadata": {},
   "outputs": [],
   "source": [
    "# 데이터프레임의 '지수'열은 높을 수록 구매율, 결제율이 높다는 뜻임(90일 동안 구매수, 추천수 합) \n",
    "# 각 장르별 지수의 합을 구한 후 위의 차트로 만들고 장르별 점유율과 지수의 점유율 비교\n",
    "sum_hfan = Mdf[Mdf.현대판타지 == True]['지수'].sum()\n",
    "sum_fan = Mdf[Mdf.판타지 == True]['지수'].sum()\n",
    "sum_mu = Mdf[Mdf.무협 == True]['지수'].sum()\n",
    "sum_his = Mdf[Mdf.대체역사 == True]['지수'].sum()\n",
    "sum_fu = Mdf[Mdf.퓨전 == True]['지수'].sum()\n",
    "sum_sport = Mdf[Mdf.스포츠 == True]['지수'].sum()\n",
    "sum_drama = Mdf[Mdf.드라마 == True]['지수'].sum()\n",
    "sum_roman = Mdf[Mdf.로맨스 == True]['지수'].sum()\n",
    "sum_game = Mdf[Mdf.게임 == True]['지수'].sum()\n",
    "sum_war = Mdf[Mdf.전쟁·밀리터리 == True]['지수'].sum()\n",
    "sum_normal = Mdf[Mdf.일반소설 == True]['지수'].sum()\n",
    "\n",
    "Mgenre_gisu_sum_list = [sum_hfan, sum_fan, sum_mu, sum_his, sum_fu, sum_sport, sum_drama, sum_roman, sum_game, sum_war, sum_normal]\n",
    "Mgenres_gisu = ['현대판타지', '판타지', '무협', '대체역사', '퓨전', '스포츠', '드라마', '로맨스', '게임', '전쟁·밀리터리', '일반소설']\n",
    "\n",
    "# 전체 장르 합계(total_gisu) 만들고 장르별 지수의 점유율 구함\n",
    "total_gisu = sum(Mgenre_gisu_sum_list)\n",
    "Mgenre_gisu_shares = [genre_gisu / total_gisu for genre_gisu in Mgenre_gisu_sum_list]\n",
    "\n",
    "# 장르별 지수의 점유율\n",
    "# print(Mgenre_gisu_shares) \n",
    "# print(sum(Mgenre_gisu_shares)"
   ]
  },
  {
   "cell_type": "code",
   "execution_count": null,
   "id": "462fe446",
   "metadata": {},
   "outputs": [],
   "source": [
    "plt.figure(figsize=(20, 10))\n",
    "\n",
    "plt.subplot(1,2,1)\n",
    "plt.title('문피아 유료 200위 장르별 점유율 차트')\n",
    "wedgeprops={'width': 0.8, 'edgecolor': 'w', 'linewidth': 3}\n",
    "plt.pie(Mgenre_shares, labels=Mgenres, autopct='%.1f%%', wedgeprops=wedgeprops)\n",
    "\n",
    "plt.subplot(1,2,2)\n",
    "wedgeprops={'width': 0.8, 'edgecolor': 'w', 'linewidth': 3}\n",
    "plt.title('문피아 유료 200위 장르 지수 차트(회차별 구매수)')\n",
    "plt.pie(Mgenre_gisu_shares, labels=Mgenres_gisu, autopct='%.1f%%', wedgeprops=wedgeprops)\n",
    "\n",
    "plt.show()"
   ]
  },
  {
   "cell_type": "code",
   "execution_count": null,
   "id": "aad84fa6",
   "metadata": {},
   "outputs": [],
   "source": [
    "index = np.arange(len(Mgenre_gisu_shares))\n",
    "index\n",
    "w = 0.3\n",
    "\n",
    "plt.figure(figsize=(12,8))\n",
    "plt.bar(index, Mgenre_shares, label='장르별 점유율', width=w)\n",
    "plt.bar(index+w, Mgenre_gisu_shares, label='장르별 수익 점유율(회차별 구매수)', width=w)\n",
    "\n",
    "plt.legend()\n",
    "plt.xticks(index, Mgenres_gisu, rotation=45)\n",
    "plt.grid(axis='y')\n",
    "\n",
    "plt.show()"
   ]
  },
  {
   "cell_type": "markdown",
   "id": "5bb62401",
   "metadata": {},
   "source": [
    "문피아 유료 소설 시각화"
   ]
  },
  {
   "cell_type": "code",
   "execution_count": null,
   "id": "af394eaf",
   "metadata": {},
   "outputs": [],
   "source": [
    "plt.figure(figsize=(16,8))\n",
    "\n",
    "plt.subplot(1,2,1)\n",
    "plt.title('문피아 유료 200위 장르별 점유율 차트')\n",
    "wedgeprops={'width': 0.8, 'edgecolor': 'w', 'linewidth': 3}\n",
    "plt.pie(Mgenre_shares, labels=Mgenres, autopct='%.1f%%', wedgeprops=wedgeprops, textprops={'fontsize': 10})\n",
    "\n",
    "plt.subplot(1,2,2)\n",
    "wedgeprops={'width': 0.8, 'edgecolor': 'w', 'linewidth': 3}\n",
    "plt.title('문피아 유료 200위 장르 지수 차트(회차별 구매수)')\n",
    "plt.pie(Mgenre_gisu_shares, labels=Mgenres_gisu, autopct='%.1f%%', wedgeprops=wedgeprops, textprops={'fontsize': 9})\n",
    "\n",
    "plt.figure(figsize=(16,8))\n",
    "index = np.arange(len(Mgenre_shares)) # 11개 0 ~ 10\n",
    "index\n",
    "w = 0.3\n",
    "\n",
    "plt.bar(index, Mgenre_shares, label='장르별 점유율', width=w)\n",
    "plt.bar(index+w, Mgenre_gisu_shares, label='장르별 수익 점유율(회차별 구매수)', width=w)\n",
    "plt.legend()\n",
    "plt.xticks(index, Mgenres_gisu, rotation=45)\n",
    "plt.title('장르별 점유율, 구매율 비교')\n",
    "plt.grid(axis='y')\n",
    "\n",
    "plt.show()"
   ]
  },
  {
   "cell_type": "markdown",
   "id": "e5fb15d1",
   "metadata": {},
   "source": [
    "네이버 시리즈 시각화"
   ]
  },
  {
   "cell_type": "code",
   "execution_count": null,
   "id": "7ed81779",
   "metadata": {},
   "outputs": [],
   "source": [
    "# 네이버 시리즈 실시간, 일간, 주간, 월간 장르별 시각화\n",
    "N_now=pd.read_csv('./data/NaverSeries_Now100.txt', index_col=0)\n",
    "N_day=pd.read_csv('./data/NaverSeries_Day100.txt', index_col=0)\n",
    "N_week=pd.read_csv('./data/NaverSeries_Week100.txt', index_col=0)\n",
    "N_month=pd.read_csv('./data/NaverSeries_Month100.txt', index_col=0)"
   ]
  },
  {
   "cell_type": "code",
   "execution_count": null,
   "id": "f01b1c4e",
   "metadata": {},
   "outputs": [],
   "source": [
    "# 장르별 숫자\n",
    "N_fan = N_now.판타지.sum()\n",
    "N_mu = N_now.무협.sum()\n",
    "N_hfan = N_now.현판.sum()\n",
    "N_roman = N_now.로맨스.sum()\n",
    "N_rofan = N_now.로판.sum()\n",
    "\n",
    "# 장르별 숫자를 모아 놓은 리스트\n",
    "Ngenre_now_List=[N_fan, N_mu, N_hfan, N_roman, N_rofan]\n",
    "Ngenre_List = ['판타지', '무협', '현대판타지', '로맨스', '로맨스판타지']\n",
    "# total 구하기\n",
    "total_now = sum(Ngenre_now_List)\n",
    "print(total_now) # 95개 정상\n",
    "\n",
    "# 장르별 점유율 구하기\n",
    "N_now_genre_shares = [genre / total_now for genre in Ngenre_now_List]\n",
    "print(N_now_genre_shares)\n"
   ]
  },
  {
   "cell_type": "code",
   "execution_count": null,
   "id": "c7f525bf",
   "metadata": {},
   "outputs": [],
   "source": [
    "# 네이버 시리즈 실시간 장르별 점유율 시각화\n",
    "plt.figure(figsize=(8, 12))\n",
    "\n",
    "wedgeprops={'width': 0.8, 'edgecolor': 'w', 'linewidth': 3}\n",
    "plt.title('네이버 실시간 Top100 장르별 점유율 차트')\n",
    "plt.pie(N_now_genre_shares, labels=Ngenre_List, autopct='%.1f%%', wedgeprops=wedgeprops)\n",
    "\n",
    "plt.show()"
   ]
  },
  {
   "cell_type": "code",
   "execution_count": null,
   "id": "820f8520",
   "metadata": {},
   "outputs": [],
   "source": [
    "# 장르별 숫자\n",
    "N_day_fan = N_day.판타지.sum()\n",
    "N_day_mu = N_day.무협.sum()\n",
    "N_day_hfan = N_day.현판.sum()\n",
    "N_day_roman = N_day.로맨스.sum()\n",
    "N_day_rofan = N_day.로판.sum()\n",
    "\n",
    "# 장르별 숫자를 모아 놓은 리스트\n",
    "Ngenre_day_List=[N_day_fan, N_day_mu, N_day_hfan, N_day_roman, N_day_rofan]\n",
    "# total 구하기\n",
    "total_day = sum(Ngenre_day_List)\n",
    "print(total_day) # 100개 정상\n",
    "\n",
    "# 장르별 점유율 구하기\n",
    "N_day_genre_shares = [genre / total_day for genre in Ngenre_day_List]\n",
    "print(N_day_genre_shares)"
   ]
  },
  {
   "cell_type": "code",
   "execution_count": null,
   "id": "5bb98e35",
   "metadata": {},
   "outputs": [],
   "source": [
    "# 네이버 시리즈 일간 Top100 장르별 점유율 시각화\n",
    "plt.figure(figsize=(8, 12))\n",
    "\n",
    "wedgeprops={'width': 0.8, 'edgecolor': 'w', 'linewidth': 3}\n",
    "plt.title('네이버 일간 Top100 장르별 점유율 차트')\n",
    "plt.pie(N_day_genre_shares, labels=Ngenre_List, autopct='%.1f%%', wedgeprops=wedgeprops)\n",
    "\n",
    "plt.show()"
   ]
  },
  {
   "cell_type": "code",
   "execution_count": null,
   "id": "3e988bed",
   "metadata": {},
   "outputs": [],
   "source": [
    "# 주간 장르별 숫자\n",
    "N_week_fan = N_week.판타지.sum()\n",
    "N_week_mu = N_week.무협.sum()\n",
    "N_week_hfan = N_week.현판.sum()\n",
    "N_week_roman = N_week.로맨스.sum()\n",
    "N_week_rofan = N_week.로판.sum()\n",
    "\n",
    "# 장르별 숫자를 모아 놓은 리스트\n",
    "Ngenre_week_List=[N_week_fan, N_week_mu, N_week_hfan, N_week_roman, N_week_rofan]\n",
    "# total 구하기\n",
    "total_week = sum(Ngenre_week_List)\n",
    "print(total_week) # 100개 정상\n",
    "\n",
    "# 장르별 점유율 구하기\n",
    "N_week_genre_shares = [genre / total_week for genre in Ngenre_week_List]\n",
    "print(N_week_genre_shares)"
   ]
  },
  {
   "cell_type": "code",
   "execution_count": null,
   "id": "68717200",
   "metadata": {},
   "outputs": [],
   "source": [
    "# 네이버 시리즈 일간 Top100 장르별 점유율 시각화\n",
    "plt.figure(figsize=(8, 12))\n",
    "\n",
    "wedgeprops={'width': 0.8, 'edgecolor': 'w', 'linewidth': 3}\n",
    "plt.title('네이버 주간 Top100 장르별 점유율 차트')\n",
    "plt.pie(N_week_genre_shares, labels=Ngenre_List, autopct='%.1f%%', wedgeprops=wedgeprops)\n",
    "\n",
    "plt.show()"
   ]
  },
  {
   "cell_type": "code",
   "execution_count": null,
   "id": "9c44be8b",
   "metadata": {},
   "outputs": [],
   "source": [
    "# 월간 장르별 숫자\n",
    "N_month_fan = N_month.판타지.sum()\n",
    "N_month_mu = N_month.무협.sum()\n",
    "N_month_hfan = N_month.현판.sum()\n",
    "N_month_roman = N_month.로맨스.sum()\n",
    "N_month_rofan = N_month.로판.sum()\n",
    "\n",
    "# 월간 장르별 숫자를 모아 놓은 리스트\n",
    "Ngenre_month_List=[N_month_fan, N_month_mu, N_month_hfan, N_month_roman, N_month_rofan]\n",
    "# total 구하기\n",
    "total_month = sum(Ngenre_month_List)\n",
    "print(total_month) # 100개 정상\n",
    "\n",
    "# 장르별 점유율 구하기\n",
    "N_month_genre_shares = [genre / total_month for genre in Ngenre_month_List]\n",
    "print(N_month_genre_shares)"
   ]
  },
  {
   "cell_type": "code",
   "execution_count": null,
   "id": "36dc3128",
   "metadata": {},
   "outputs": [],
   "source": [
    "# 네이버 시리즈 월간 Top100 장르별 점유율 시각화\n",
    "plt.figure(figsize=(8, 12))\n",
    "\n",
    "wedgeprops={'width': 0.8, 'edgecolor': 'w', 'linewidth': 3}\n",
    "plt.title('네이버 월간 Top100 장르별 점유율 차트')\n",
    "plt.pie(N_month_genre_shares, labels=Ngenre_List, autopct='%.1f%%', wedgeprops=wedgeprops)\n",
    "\n",
    "plt.show()"
   ]
  },
  {
   "cell_type": "code",
   "execution_count": null,
   "id": "c74bfb43",
   "metadata": {},
   "outputs": [],
   "source": [
    "plt.figure(figsize=(16,10))\n",
    "\n",
    "plt.subplot(2,2,1)\n",
    "plt.title('네이버 실시간 Top100 장르별 점유율 차트')\n",
    "wedgeprops={'width': 0.8, 'edgecolor': 'w', 'linewidth': 3}\n",
    "plt.pie(N_now_genre_shares, labels=Ngenre_List, autopct='%.1f%%', wedgeprops=wedgeprops, textprops={'fontsize': 14})\n",
    "\n",
    "plt.subplot(2,2,2)\n",
    "wedgeprops={'width': 0.8, 'edgecolor': 'w', 'linewidth': 3}\n",
    "plt.title('네이버 일간 Top100 장르별 점유율 차트')\n",
    "plt.pie(N_day_genre_shares, labels=Ngenre_List, autopct='%.1f%%', wedgeprops=wedgeprops, textprops={'fontsize': 14})\n",
    "\n",
    "plt.subplot(2,2,3)\n",
    "plt.title('네이버 주간 Top100 장르별 점유율 차트')\n",
    "wedgeprops={'width': 0.8, 'edgecolor': 'w', 'linewidth': 3}\n",
    "plt.pie(N_week_genre_shares, labels=Ngenre_List, autopct='%.1f%%', wedgeprops=wedgeprops, textprops={'fontsize': 14})\n",
    "\n",
    "plt.subplot(2,2,4)\n",
    "wedgeprops={'width': 0.8, 'edgecolor': 'w', 'linewidth': 3}\n",
    "plt.title('네이버 월간 Top100 장르별 점유율 차트')\n",
    "plt.pie(N_month_genre_shares, labels=Ngenre_List, autopct='%.1f%%', wedgeprops=wedgeprops, textprops={'fontsize': 14})"
   ]
  },
  {
   "cell_type": "code",
   "execution_count": null,
   "id": "305eccba",
   "metadata": {},
   "outputs": [],
   "source": [
    "index = np.arange(len(Ngenre_List))\n",
    "w = 0.15\n",
    "\n",
    "plt.figure(figsize=(16,8))\n",
    "plt.bar(index-w, N_now_genre_shares, label='실시간 장르별 점유율', width=w)\n",
    "plt.bar(index, N_day_genre_shares, label='일간 장르별 점유율', width=w)\n",
    "plt.bar(index+w, N_week_genre_shares, label='주간 장르별 점유율', width=w)\n",
    "plt.bar(index+2*w, N_month_genre_shares, label='월간 장르별 점유율', width=w)\n",
    "\n",
    "plt.legend()\n",
    "plt.xticks(index, Ngenre_List, rotation=45)\n",
    "plt.title('실시간, 일간, 주간, 월간 별 장르별 변화 추이')\n",
    "plt.grid(axis='y')\n",
    "\n",
    "plt.show()"
   ]
  },
  {
   "cell_type": "code",
   "execution_count": null,
   "id": "614c0b15",
   "metadata": {},
   "outputs": [],
   "source": []
  },
  {
   "cell_type": "code",
   "execution_count": null,
   "id": "508ec45a",
   "metadata": {},
   "outputs": [],
   "source": []
  },
  {
   "cell_type": "code",
   "execution_count": null,
   "id": "cf0735d3",
   "metadata": {},
   "outputs": [],
   "source": []
  }
 ],
 "metadata": {
  "kernelspec": {
   "display_name": "python37",
   "language": "python",
   "name": "python37"
  },
  "language_info": {
   "codemirror_mode": {
    "name": "ipython",
    "version": 3
   },
   "file_extension": ".py",
   "mimetype": "text/x-python",
   "name": "python",
   "nbconvert_exporter": "python",
   "pygments_lexer": "ipython3",
   "version": "3.7.1"
  }
 },
 "nbformat": 4,
 "nbformat_minor": 5
}
