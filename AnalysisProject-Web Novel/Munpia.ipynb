{
 "cells": [
  {
   "cell_type": "code",
   "execution_count": 1,
   "id": "dc71a8de",
   "metadata": {},
   "outputs": [],
   "source": [
    "import warnings\n",
    "warnings.filterwarnings(action='ignore')\n",
    "%config Completer.use_jedi = False\n",
    "from bs4 import BeautifulSoup\n",
    "import requests\n",
    "\n",
    "from selenium import webdriver\n",
    "from selenium.webdriver.chrome.options import Options\n",
    "from selenium.webdriver.common.by import By\n",
    "import numpy as np\n",
    "import pandas as pd\n",
    "import time\n",
    "\n",
    "import matplotlib.pyplot as plt\n",
    "import matplotlib as mpl\n",
    "mpl.rcParams['axes.unicode_minus'] = False\n",
    "plt.rcParams['font.family'] = 'NanumGothicCoding'\n",
    "plt.rcParams['font.size'] = 12\n"
   ]
  },
  {
   "cell_type": "markdown",
   "id": "202dfae2",
   "metadata": {},
   "source": [
    "현 시점(크롤링 하는 시점) 유료 top 200을 수집해서 데이터프레임으로 저장한다."
   ]
  },
  {
   "cell_type": "markdown",
   "id": "02c9a59f",
   "metadata": {},
   "source": [
    "문피아 월간 유료 베스트 200"
   ]
  },
  {
   "cell_type": "code",
   "execution_count": null,
   "id": "7f4bda65",
   "metadata": {
    "scrolled": false
   },
   "outputs": [],
   "source": [
    "# 월간 유료 Top 200 (최근 30일기준 구매수(조회수) 기준)\n",
    "targetSite = 'https://www.munpia.com/page/best/section/plsa.monthly'\n",
    "driver = webdriver.Chrome() \n",
    "driver.get(targetSite)\n",
    "time.sleep(1)\n",
    "request = requests.get(targetSite)\n",
    "html = request.text\n",
    "soup = BeautifulSoup(html, 'html.parser') # 크롤링 하려는 페이지 띄우기\n",
    "\n",
    "for i in range(10): # 가장 마지막 까지 스크롤 200위까지만 나옴\n",
    "    driver.execute_script('window.scrollTo(0,document.body.scrollHeight);')\n",
    "    time.sleep(1)\n",
    "    \n",
    "request = requests.get(targetSite)    \n",
    "html = request.text\n",
    "soup = BeautifulSoup(html, 'html.parser')\n",
    "\n",
    "Mun_pay_Genre = [] # 유료 장르 저장할 리스트\n",
    "Mun_pay_Titles = [] # 유료 제목 저장할 리스트\n",
    "Mun_pay_Author = [] # 유료 작가 저장할 리스트\n",
    "Mun_pay_Ranking = [i+1 for i in range(200) ]\n",
    "Mun_pay_Gisu = [] # 유료 지수 저장 높을수록 랭킹 상승 \n",
    "\n",
    "for i in range(3): # top 3\n",
    "    #print(i+1)\n",
    "    Mun_pay_Genre.append(driver.find_element(By.XPATH, f'//*[@id=\"content\"]/div[3]/div[{i+1}]/a/span[1]').text)\n",
    "    Mun_pay_Titles.append(driver.find_element(By.XPATH, f'//*[@id=\"content\"]/div[3]/div[{i+1}]/a/span[2]').text)\n",
    "    Mun_pay_Author.append(driver.find_element(By.XPATH, f'//*[@id=\"content\"]/div[3]/div[{i+1}]/a/span[3]').text)\n",
    "    Mun_pay_Gisu.append(driver.find_element(By.XPATH, f'//*[@id=\"content\"]/div[3]/div[{i+1}]/a/dl/dd').text)\n",
    "for i in range(4, 201, 1): # top 4 ~ 200\n",
    "    Mun_pay_Genre.append(driver.find_element(By.XPATH, f'//*[@id=\"BEST-TABLE\"]/li[{i-2}]/a/span[1]').text)\n",
    "    Mun_pay_Titles.append(driver.find_element(By.XPATH, f'//*[@id=\"BEST-TABLE\"]/li[{i-2}]/a/span[2]').text)\n",
    "    Mun_pay_Author.append(driver.find_element(By.XPATH, f'//*[@id=\"BEST-TABLE\"]/li[{i-2}]/a/span[3]').text)\n",
    "    Mun_pay_Gisu.append(driver.find_element(By.XPATH, f'//*[@id=\"BEST-TABLE\"]/li[{i-2}]/a/span[4]/span').text)\n",
    "    \n",
    "#print(Mun_pay_Genre)\n",
    "#print(Mun_pay_Titles)\n",
    "#print(Mun_pay_Author)\n",
    "#print(Mun_pay_Gisu)\n",
    "\n",
    "Munpia_Pay = pd.DataFrame({'제목': Mun_pay_Titles, '장르': Mun_pay_Genre, '작가':Mun_pay_Author, '지수': Mun_pay_Gisu}, index=Mun_free_Ranking)\n",
    "#Munpia_Pay # 문피아 유료 월간 베스트 200 \n",
    "\n",
    "# 장르가 2개 나온 것들 처리 곤란 => 장르 1, 2로 나누고 장르마다 개별 컬럼으로 추가함(True,False)\n",
    "\n",
    "Munpia_Free['장르1'] = Munpia_Free.장르.str.split(',').str[0]\n",
    "Munpia_Free['장르1'] = Munpia_Free['장르1'].str.strip() \n",
    "Munpia_Free['장르2'] = Munpia_Free.장르.str.split(',').str[1]\n",
    "Munpia_Free['장르2'] = Munpia_Free['장르2'].str.strip() \n",
    "\n",
    "Munpia_Pay['장르1'] = Munpia_Pay.장르.str.split(',').str[0]\n",
    "Munpia_Pay['장르1'] = Munpia_Pay['장르1'].str.strip()\n",
    "Munpia_Pay['장르2'] = Munpia_Pay.장르.str.split(',').str[1]\n",
    "Munpia_Pay['장르2'] = Munpia_Pay['장르2'].str.strip()\n",
    "\n",
    "all_genres = pd.Series(Munpia_Pay[['장르1', '장르2']].values.ravel('K')).dropna().unique()\n",
    "#print(all_genres)\n",
    "for genre in all_genres:\n",
    "    Munpia_Pay[genre] = (Munpia_Pay['장르1'] == genre) | (Munpia_Pay['장르2'] == genre)\n",
    "Munpia_Pay.drop(columns=['장르1','장르2'], inplace=True)\n",
    "#Munpia_Pay\n",
    "\n",
    "# 지수가 object => int로 타입 바꾸고 data 폴더에 저장함\n",
    "\n",
    "Munpia_Pay.지수 = Munpia_Pay.지수.str.replace(',', '')\n",
    "Munpia_Pay.지수 = Munpia_Pay.지수.astype(int)\n",
    "#Munpia_Pay.지수\n"
   ]
  },
  {
   "cell_type": "code",
   "execution_count": null,
   "id": "01016715",
   "metadata": {},
   "outputs": [],
   "source": [
    "Munpia_Pay.to_csv('./data/Munpia_pay200.txt')"
   ]
  },
  {
   "cell_type": "code",
   "execution_count": null,
   "id": "740d3a07",
   "metadata": {},
   "outputs": [],
   "source": [
    "Munpia_Pay.info()"
   ]
  },
  {
   "cell_type": "code",
   "execution_count": null,
   "id": "bc6136fa",
   "metadata": {},
   "outputs": [],
   "source": [
    "Munpia_Pay"
   ]
  },
  {
   "cell_type": "code",
   "execution_count": 29,
   "id": "2d551648",
   "metadata": {
    "scrolled": true
   },
   "outputs": [
    {
     "name": "stderr",
     "output_type": "stream",
     "text": [
      "The chromedriver version (125.0.6422.141) detected in PATH at C:\\k-digital\\source\\python source\\myProject\\AnalysisProject-Web Novel\\AnalysisProject-Web Novel\\chromedriver.exe might not be compatible with the detected chrome version (126.0.6478.63); currently, chromedriver 126.0.6478.63 is recommended for chrome 126.*, so it is advised to delete the driver in PATH and retry\n"
     ]
    },
    {
     "name": "stdout",
     "output_type": "stream",
     "text": [
      "['https://novel.munpia.com/400210', 'https://novel.munpia.com/413522', 'https://novel.munpia.com/414226', 'https://novel.munpia.com/409573', 'https://novel.munpia.com/346981', 'https://novel.munpia.com/405038', 'https://novel.munpia.com/363878', 'https://novel.munpia.com/223890', 'https://novel.munpia.com/405699', 'https://novel.munpia.com/361868', 'https://novel.munpia.com/408148', 'https://novel.munpia.com/182112', 'https://novel.munpia.com/395288', 'https://novel.munpia.com/391249', 'https://novel.munpia.com/394753', 'https://novel.munpia.com/402910', 'https://novel.munpia.com/372931', 'https://novel.munpia.com/413831', 'https://novel.munpia.com/388095', 'https://novel.munpia.com/371659', 'https://novel.munpia.com/390325', 'https://novel.munpia.com/405693', 'https://novel.munpia.com/406911', 'https://novel.munpia.com/404667', 'https://novel.munpia.com/383623', 'https://novel.munpia.com/389702', 'https://novel.munpia.com/400511', 'https://novel.munpia.com/407619', 'https://novel.munpia.com/387666', 'https://novel.munpia.com/393983', 'https://novel.munpia.com/401329', 'https://novel.munpia.com/384940', 'https://novel.munpia.com/400558', 'https://novel.munpia.com/401699', 'https://novel.munpia.com/409950', 'https://novel.munpia.com/334226', 'https://novel.munpia.com/407840', 'https://novel.munpia.com/393302', 'https://novel.munpia.com/399077', 'https://novel.munpia.com/385467', 'https://novel.munpia.com/408410', 'https://novel.munpia.com/357452', 'https://novel.munpia.com/393099', 'https://novel.munpia.com/380909', 'https://novel.munpia.com/403026', 'https://novel.munpia.com/397814', 'https://novel.munpia.com/364177', 'https://novel.munpia.com/324348', 'https://novel.munpia.com/406517', 'https://novel.munpia.com/279551', 'https://novel.munpia.com/335679', 'https://novel.munpia.com/407332', 'https://novel.munpia.com/406422', 'https://novel.munpia.com/405127', 'https://novel.munpia.com/406430', 'https://novel.munpia.com/401336', 'https://novel.munpia.com/412217', 'https://novel.munpia.com/401901', 'https://novel.munpia.com/404307', 'https://novel.munpia.com/397685', 'https://novel.munpia.com/319286', 'https://novel.munpia.com/405647', 'https://novel.munpia.com/351480', 'https://novel.munpia.com/388139', 'https://novel.munpia.com/397458', 'https://novel.munpia.com/405575', 'https://novel.munpia.com/410402', 'https://novel.munpia.com/400262', 'https://novel.munpia.com/405263', 'https://novel.munpia.com/404914', 'https://novel.munpia.com/366409', 'https://novel.munpia.com/406221', 'https://novel.munpia.com/342817', 'https://novel.munpia.com/390725', 'https://novel.munpia.com/404306', 'https://novel.munpia.com/406274', 'https://novel.munpia.com/401395', 'https://novel.munpia.com/389721', 'https://novel.munpia.com/399869', 'https://novel.munpia.com/398616', 'https://novel.munpia.com/91668', 'https://novel.munpia.com/374039', 'https://novel.munpia.com/413016', 'https://novel.munpia.com/391751', 'https://novel.munpia.com/406321', 'https://novel.munpia.com/374347', 'https://novel.munpia.com/387886', 'https://novel.munpia.com/406108', 'https://novel.munpia.com/407919', 'https://novel.munpia.com/381104', 'https://novel.munpia.com/402145', 'https://novel.munpia.com/352784', 'https://novel.munpia.com/391502', 'https://novel.munpia.com/386129', 'https://novel.munpia.com/407158', 'https://novel.munpia.com/159950', 'https://novel.munpia.com/395249', 'https://novel.munpia.com/386329', 'https://novel.munpia.com/383794', 'https://novel.munpia.com/399815', 'https://novel.munpia.com/406703', 'https://novel.munpia.com/405155', 'https://novel.munpia.com/395965', 'https://novel.munpia.com/398144', 'https://novel.munpia.com/408290', 'https://novel.munpia.com/391117', 'https://novel.munpia.com/394515', 'https://novel.munpia.com/404768', 'https://novel.munpia.com/402002', 'https://novel.munpia.com/405935', 'https://novel.munpia.com/400694', 'https://novel.munpia.com/401491', 'https://novel.munpia.com/401516', 'https://novel.munpia.com/398384', 'https://novel.munpia.com/407399', 'https://novel.munpia.com/404076', 'https://novel.munpia.com/379634', 'https://novel.munpia.com/404755', 'https://novel.munpia.com/406683', 'https://novel.munpia.com/399376', 'https://novel.munpia.com/389562', 'https://novel.munpia.com/395552', 'https://novel.munpia.com/384411', 'https://novel.munpia.com/343885', 'https://novel.munpia.com/315156', 'https://novel.munpia.com/335685', 'https://novel.munpia.com/395008', 'https://novel.munpia.com/378828', 'https://novel.munpia.com/397316', 'https://novel.munpia.com/389391', 'https://novel.munpia.com/395131', 'https://novel.munpia.com/291062', 'https://novel.munpia.com/403172', 'https://novel.munpia.com/403232', 'https://novel.munpia.com/404589', 'https://novel.munpia.com/399925', 'https://novel.munpia.com/401681', 'https://novel.munpia.com/406288', 'https://novel.munpia.com/405299', 'https://novel.munpia.com/396310', 'https://novel.munpia.com/372155', 'https://novel.munpia.com/402969', 'https://novel.munpia.com/382037', 'https://novel.munpia.com/405796', 'https://novel.munpia.com/337226', 'https://novel.munpia.com/399138', 'https://novel.munpia.com/391286', 'https://novel.munpia.com/404601', 'https://novel.munpia.com/394301', 'https://novel.munpia.com/401736', 'https://novel.munpia.com/417924', 'https://novel.munpia.com/393858', 'https://novel.munpia.com/401323', 'https://novel.munpia.com/401169', 'https://novel.munpia.com/393694', 'https://novel.munpia.com/354553', 'https://novel.munpia.com/405241', 'https://novel.munpia.com/390946', 'https://novel.munpia.com/377977', 'https://novel.munpia.com/385661', 'https://novel.munpia.com/403303', 'https://novel.munpia.com/401983', 'https://novel.munpia.com/399456', 'https://novel.munpia.com/404110', 'https://novel.munpia.com/401427', 'https://novel.munpia.com/397876', 'https://novel.munpia.com/375999', 'https://novel.munpia.com/207549', 'https://novel.munpia.com/207407', 'https://novel.munpia.com/290950', 'https://novel.munpia.com/369720', 'https://novel.munpia.com/397784', 'https://novel.munpia.com/400102', 'https://novel.munpia.com/386993', 'https://novel.munpia.com/376028', 'https://novel.munpia.com/395900', 'https://novel.munpia.com/385610', 'https://novel.munpia.com/407051', 'https://novel.munpia.com/391409', 'https://novel.munpia.com/405532', 'https://novel.munpia.com/394215', 'https://novel.munpia.com/373219', 'https://novel.munpia.com/391759', 'https://novel.munpia.com/407740', 'https://novel.munpia.com/396194', 'https://novel.munpia.com/402903', 'https://novel.munpia.com/394070', 'https://novel.munpia.com/379525', 'https://novel.munpia.com/408902', 'https://novel.munpia.com/368810', 'https://novel.munpia.com/303297', 'https://novel.munpia.com/401292', 'https://novel.munpia.com/389919', 'https://novel.munpia.com/402714', 'https://novel.munpia.com/404620', 'https://novel.munpia.com/401457', 'https://novel.munpia.com/394211', 'https://novel.munpia.com/386099', 'https://novel.munpia.com/407344', 'https://novel.munpia.com/406914']\n"
     ]
    }
   ],
   "source": [
    "targetSite = 'https://www.munpia.com/page/best/section/plsa.eachtoday'\n",
    "driver = webdriver.Chrome() \n",
    "driver.get(targetSite)\n",
    "time.sleep(1)\n",
    "\n",
    "for i in range(10): # 가장 마지막까지 스크롤 200위까지만 나옴\n",
    "    driver.execute_script('window.scrollTo(0,document.body.scrollHeight);')\n",
    "    time.sleep(1)\n",
    "\n",
    "# 원래는 순위대로 하나씩 클릭하고 크롤링 후 back()하려 했으나 다시 아래로 스크롤 해야 해서 \n",
    "# 스크롤 한 다음 하이퍼링크 주소를 따와서 리스트에 저장한 후 하나씩 열고 크로링 하기로 함.\n",
    "\n",
    "#request = requests.get(targetSite)\n",
    "#html = request.text\n",
    "#soup = BeautifulSoup(html, 'html.parser') # 크롤링 하려는 페이지 띄우고 가져오기 => 정적 크롤링으론 중간에 짤려서 나옴 \n",
    "#print(soup)\n",
    "\n",
    "# 정적 크롤링으론 처음부터 끝까지 못 가져와서 동적 크롤링 사용 및 이전과는 다르게 더 많은 데이터를 가져올 예상이라 링크를 얻어와서 저장함\n",
    "M_Today_Best_Links = []\n",
    "M_Today_Best_List = driver.find_elements(By.CLASS_NAME, 'best-item')\n",
    "for Today_Best in M_Today_Best_List:\n",
    "    M_Today_Best_Links.append(Today_Best.get_attribute('href'))\n",
    "M_Today_Best_Links.remove(M_Today_Best_Links[3]) # 공통 항목인 None 값을 삭제\n",
    "# print(M_Today_Best_Links) # 하이퍼 링크가 제대로 저장 됬는지 확인 => 성공\n",
    "# print(len(M_Today_Best_Links)) # 200개 확인 성공"
   ]
  },
  {
   "cell_type": "code",
   "execution_count": null,
   "id": "192895f1",
   "metadata": {},
   "outputs": [],
   "source": []
  }
 ],
 "metadata": {
  "kernelspec": {
   "display_name": "python37",
   "language": "python",
   "name": "python37"
  },
  "language_info": {
   "codemirror_mode": {
    "name": "ipython",
    "version": 3
   },
   "file_extension": ".py",
   "mimetype": "text/x-python",
   "name": "python",
   "nbconvert_exporter": "python",
   "pygments_lexer": "ipython3",
   "version": "3.7.1"
  }
 },
 "nbformat": 4,
 "nbformat_minor": 5
}
